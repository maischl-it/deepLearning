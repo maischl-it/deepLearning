{
 "cells": [
  {
   "cell_type": "code",
   "execution_count": 235,
   "metadata": {},
   "outputs": [],
   "source": [
    "import pandas as pd"
   ]
  },
  {
   "cell_type": "code",
   "execution_count": 236,
   "metadata": {},
   "outputs": [],
   "source": [
    "from sklearn import preprocessing"
   ]
  },
  {
   "cell_type": "code",
   "execution_count": 237,
   "metadata": {},
   "outputs": [],
   "source": [
    "from sklearn.model_selection import train_test_split"
   ]
  },
  {
   "cell_type": "code",
   "execution_count": 238,
   "metadata": {},
   "outputs": [],
   "source": [
    "df = pd.read_csv('data.csv')"
   ]
  },
  {
   "cell_type": "code",
   "execution_count": 239,
   "metadata": {
    "scrolled": true
   },
   "outputs": [
    {
     "output_type": "execute_result",
     "data": {
      "text/plain": [
       "      LotArea  OverallQual  OverallCond  TotalBsmtSF  FullBath  HalfBath  \\\n",
       "0        8450            7            5          856         2         1   \n",
       "1        9600            6            8         1262         2         0   \n",
       "2       11250            7            5          920         2         1   \n",
       "3        9550            7            5          756         1         0   \n",
       "4       14260            8            5         1145         2         1   \n",
       "...       ...          ...          ...          ...       ...       ...   \n",
       "1455     7917            6            5          953         2         1   \n",
       "1456    13175            6            6         1542         2         0   \n",
       "1457     9042            7            9         1152         2         0   \n",
       "1458     9717            5            6         1078         1         0   \n",
       "1459     9937            5            6         1256         1         1   \n",
       "\n",
       "      BedroomAbvGr  TotRmsAbvGrd  Fireplaces  GarageArea  AboveMedianPrice  \n",
       "0                3             8           0         548                 1  \n",
       "1                3             6           1         460                 1  \n",
       "2                3             6           1         608                 1  \n",
       "3                3             7           1         642                 0  \n",
       "4                4             9           1         836                 1  \n",
       "...            ...           ...         ...         ...               ...  \n",
       "1455             3             7           1         460                 1  \n",
       "1456             3             7           2         500                 1  \n",
       "1457             4             9           2         252                 1  \n",
       "1458             2             5           0         240                 0  \n",
       "1459             3             6           0         276                 0  \n",
       "\n",
       "[1460 rows x 11 columns]"
      ],
      "text/html": "<div>\n<style scoped>\n    .dataframe tbody tr th:only-of-type {\n        vertical-align: middle;\n    }\n\n    .dataframe tbody tr th {\n        vertical-align: top;\n    }\n\n    .dataframe thead th {\n        text-align: right;\n    }\n</style>\n<table border=\"1\" class=\"dataframe\">\n  <thead>\n    <tr style=\"text-align: right;\">\n      <th></th>\n      <th>LotArea</th>\n      <th>OverallQual</th>\n      <th>OverallCond</th>\n      <th>TotalBsmtSF</th>\n      <th>FullBath</th>\n      <th>HalfBath</th>\n      <th>BedroomAbvGr</th>\n      <th>TotRmsAbvGrd</th>\n      <th>Fireplaces</th>\n      <th>GarageArea</th>\n      <th>AboveMedianPrice</th>\n    </tr>\n  </thead>\n  <tbody>\n    <tr>\n      <th>0</th>\n      <td>8450</td>\n      <td>7</td>\n      <td>5</td>\n      <td>856</td>\n      <td>2</td>\n      <td>1</td>\n      <td>3</td>\n      <td>8</td>\n      <td>0</td>\n      <td>548</td>\n      <td>1</td>\n    </tr>\n    <tr>\n      <th>1</th>\n      <td>9600</td>\n      <td>6</td>\n      <td>8</td>\n      <td>1262</td>\n      <td>2</td>\n      <td>0</td>\n      <td>3</td>\n      <td>6</td>\n      <td>1</td>\n      <td>460</td>\n      <td>1</td>\n    </tr>\n    <tr>\n      <th>2</th>\n      <td>11250</td>\n      <td>7</td>\n      <td>5</td>\n      <td>920</td>\n      <td>2</td>\n      <td>1</td>\n      <td>3</td>\n      <td>6</td>\n      <td>1</td>\n      <td>608</td>\n      <td>1</td>\n    </tr>\n    <tr>\n      <th>3</th>\n      <td>9550</td>\n      <td>7</td>\n      <td>5</td>\n      <td>756</td>\n      <td>1</td>\n      <td>0</td>\n      <td>3</td>\n      <td>7</td>\n      <td>1</td>\n      <td>642</td>\n      <td>0</td>\n    </tr>\n    <tr>\n      <th>4</th>\n      <td>14260</td>\n      <td>8</td>\n      <td>5</td>\n      <td>1145</td>\n      <td>2</td>\n      <td>1</td>\n      <td>4</td>\n      <td>9</td>\n      <td>1</td>\n      <td>836</td>\n      <td>1</td>\n    </tr>\n    <tr>\n      <th>...</th>\n      <td>...</td>\n      <td>...</td>\n      <td>...</td>\n      <td>...</td>\n      <td>...</td>\n      <td>...</td>\n      <td>...</td>\n      <td>...</td>\n      <td>...</td>\n      <td>...</td>\n      <td>...</td>\n    </tr>\n    <tr>\n      <th>1455</th>\n      <td>7917</td>\n      <td>6</td>\n      <td>5</td>\n      <td>953</td>\n      <td>2</td>\n      <td>1</td>\n      <td>3</td>\n      <td>7</td>\n      <td>1</td>\n      <td>460</td>\n      <td>1</td>\n    </tr>\n    <tr>\n      <th>1456</th>\n      <td>13175</td>\n      <td>6</td>\n      <td>6</td>\n      <td>1542</td>\n      <td>2</td>\n      <td>0</td>\n      <td>3</td>\n      <td>7</td>\n      <td>2</td>\n      <td>500</td>\n      <td>1</td>\n    </tr>\n    <tr>\n      <th>1457</th>\n      <td>9042</td>\n      <td>7</td>\n      <td>9</td>\n      <td>1152</td>\n      <td>2</td>\n      <td>0</td>\n      <td>4</td>\n      <td>9</td>\n      <td>2</td>\n      <td>252</td>\n      <td>1</td>\n    </tr>\n    <tr>\n      <th>1458</th>\n      <td>9717</td>\n      <td>5</td>\n      <td>6</td>\n      <td>1078</td>\n      <td>1</td>\n      <td>0</td>\n      <td>2</td>\n      <td>5</td>\n      <td>0</td>\n      <td>240</td>\n      <td>0</td>\n    </tr>\n    <tr>\n      <th>1459</th>\n      <td>9937</td>\n      <td>5</td>\n      <td>6</td>\n      <td>1256</td>\n      <td>1</td>\n      <td>1</td>\n      <td>3</td>\n      <td>6</td>\n      <td>0</td>\n      <td>276</td>\n      <td>0</td>\n    </tr>\n  </tbody>\n</table>\n<p>1460 rows × 11 columns</p>\n</div>"
     },
     "metadata": {},
     "execution_count": 239
    }
   ],
   "source": [
    "df"
   ]
  },
  {
   "cell_type": "code",
   "execution_count": 240,
   "metadata": {},
   "outputs": [],
   "source": [
    "dataset=df.values"
   ]
  },
  {
   "cell_type": "code",
   "execution_count": 241,
   "metadata": {},
   "outputs": [
    {
     "output_type": "execute_result",
     "data": {
      "text/plain": [
       "array([[ 8450,     7,     5, ...,     0,   548,     1],\n",
       "       [ 9600,     6,     8, ...,     1,   460,     1],\n",
       "       [11250,     7,     5, ...,     1,   608,     1],\n",
       "       ...,\n",
       "       [ 9042,     7,     9, ...,     2,   252,     1],\n",
       "       [ 9717,     5,     6, ...,     0,   240,     0],\n",
       "       [ 9937,     5,     6, ...,     0,   276,     0]])"
      ]
     },
     "metadata": {},
     "execution_count": 241
    }
   ],
   "source": [
    "dataset"
   ]
  },
  {
   "cell_type": "code",
   "execution_count": 242,
   "metadata": {},
   "outputs": [
    {
     "output_type": "execute_result",
     "data": {
      "text/plain": [
       "array([[ 8450,     7,     5, ...,     8,     0,   548],\n",
       "       [ 9600,     6,     8, ...,     6,     1,   460],\n",
       "       [11250,     7,     5, ...,     6,     1,   608],\n",
       "       ...,\n",
       "       [ 9042,     7,     9, ...,     9,     2,   252],\n",
       "       [ 9717,     5,     6, ...,     5,     0,   240],\n",
       "       [ 9937,     5,     6, ...,     6,     0,   276]])"
      ]
     },
     "metadata": {},
     "execution_count": 242
    }
   ],
   "source": [
    "x=dataset[:,0:10]\n",
    "x"
   ]
  },
  {
   "cell_type": "code",
   "execution_count": 243,
   "metadata": {},
   "outputs": [],
   "source": [
    "Y=dataset[:,10]"
   ]
  },
  {
   "cell_type": "code",
   "execution_count": 244,
   "metadata": {},
   "outputs": [],
   "source": [
    "min_max_scaler = preprocessing.MinMaxScaler()"
   ]
  },
  {
   "cell_type": "code",
   "execution_count": 245,
   "metadata": {},
   "outputs": [
    {
     "output_type": "execute_result",
     "data": {
      "text/plain": [
       "array([[0.0334198 , 0.66666667, 0.5       , ..., 0.5       , 0.        ,\n",
       "        0.3864598 ],\n",
       "       [0.03879502, 0.55555556, 0.875     , ..., 0.33333333, 0.33333333,\n",
       "        0.32440056],\n",
       "       [0.04650728, 0.66666667, 0.5       , ..., 0.33333333, 0.33333333,\n",
       "        0.42877292],\n",
       "       ...,\n",
       "       [0.03618687, 0.66666667, 1.        , ..., 0.58333333, 0.66666667,\n",
       "        0.17771509],\n",
       "       [0.03934189, 0.44444444, 0.625     , ..., 0.25      , 0.        ,\n",
       "        0.16925247],\n",
       "       [0.04037019, 0.44444444, 0.625     , ..., 0.33333333, 0.        ,\n",
       "        0.19464034]])"
      ]
     },
     "metadata": {},
     "execution_count": 245
    }
   ],
   "source": [
    "X_scale = min_max_scaler.fit_transform(x)\n",
    "X_scale"
   ]
  },
  {
   "cell_type": "code",
   "execution_count": 246,
   "metadata": {},
   "outputs": [],
   "source": [
    "X_train, X_val_and_test, Y_train, Y_val_and_test = train_test_split(X_scale, Y, test_size=0.3)\n"
   ]
  },
  {
   "cell_type": "code",
   "execution_count": 247,
   "metadata": {},
   "outputs": [
    {
     "output_type": "execute_result",
     "data": {
      "text/plain": [
       "array([[0.0331861 , 0.66666667, 0.5       , ..., 0.41666667, 0.        ,\n",
       "        0.42736248],\n",
       "       [0.07394424, 0.33333333, 0.375     , ..., 0.41666667, 0.33333333,\n",
       "        0.47954866],\n",
       "       [0.05550492, 0.55555556, 0.625     , ..., 0.41666667, 0.66666667,\n",
       "        0.35260931],\n",
       "       ...,\n",
       "       [0.03137255, 0.55555556, 0.5       , ..., 0.25      , 0.33333333,\n",
       "        0.37588152],\n",
       "       [0.05885157, 0.88888889, 0.5       , ..., 0.83333333, 0.33333333,\n",
       "        0.71932299],\n",
       "       [0.03638318, 0.44444444, 0.625     , ..., 0.25      , 0.        ,\n",
       "        0.14104372]])"
      ]
     },
     "metadata": {},
     "execution_count": 247
    }
   ],
   "source": [
    "X_train"
   ]
  },
  {
   "cell_type": "code",
   "execution_count": 248,
   "metadata": {},
   "outputs": [
    {
     "output_type": "execute_result",
     "data": {
      "text/plain": [
       "array([[0.02757718, 0.44444444, 0.375     , ..., 0.16666667, 0.        ,\n",
       "        0.19746121],\n",
       "       [0.        , 0.55555556, 0.625     , ..., 0.25      , 0.33333333,\n",
       "        0.325811  ],\n",
       "       [0.02065952, 0.44444444, 0.625     , ..., 0.25      , 0.        ,\n",
       "        0.14104372],\n",
       "       ...,\n",
       "       [0.04263245, 0.66666667, 0.5       , ..., 0.41666667, 0.33333333,\n",
       "        0.34978843],\n",
       "       [0.03563065, 0.44444444, 0.75      , ..., 0.33333333, 0.        ,\n",
       "        0.16925247],\n",
       "       [0.03269064, 0.33333333, 0.5       , ..., 0.25      , 0.        ,\n",
       "        0.33850494]])"
      ]
     },
     "metadata": {},
     "execution_count": 248
    }
   ],
   "source": [
    "X_val_and_test"
   ]
  },
  {
   "cell_type": "code",
   "execution_count": 249,
   "metadata": {},
   "outputs": [
    {
     "output_type": "execute_result",
     "data": {
      "text/plain": [
       "array([1, 0, 1, ..., 1, 1, 0])"
      ]
     },
     "metadata": {},
     "execution_count": 249
    }
   ],
   "source": [
    "Y_train"
   ]
  },
  {
   "cell_type": "code",
   "execution_count": 250,
   "metadata": {},
   "outputs": [
    {
     "output_type": "execute_result",
     "data": {
      "text/plain": [
       "array([0, 0, 0, 0, 1, 1, 1, 1, 0, 0, 1, 1, 0, 0, 0, 0, 1, 1, 0, 0, 1, 1,\n",
       "       1, 0, 1, 1, 0, 0, 1, 1, 0, 0, 0, 0, 1, 0, 1, 1, 0, 1, 0, 0, 1, 1,\n",
       "       0, 0, 1, 0, 0, 1, 1, 0, 0, 1, 1, 0, 1, 1, 1, 1, 0, 1, 0, 1, 1, 1,\n",
       "       0, 0, 0, 0, 0, 0, 1, 1, 0, 1, 1, 1, 1, 0, 0, 0, 1, 1, 0, 1, 1, 0,\n",
       "       0, 0, 1, 0, 0, 1, 0, 1, 1, 0, 0, 0, 0, 0, 0, 0, 1, 0, 0, 1, 1, 1,\n",
       "       0, 1, 1, 0, 1, 1, 1, 1, 0, 0, 0, 1, 1, 0, 1, 0, 0, 0, 1, 0, 1, 1,\n",
       "       1, 1, 0, 0, 1, 1, 0, 0, 0, 1, 0, 1, 1, 0, 0, 1, 1, 0, 0, 1, 1, 0,\n",
       "       0, 1, 0, 0, 0, 1, 0, 0, 0, 0, 0, 0, 1, 1, 0, 1, 0, 0, 1, 0, 1, 0,\n",
       "       0, 0, 1, 0, 1, 0, 1, 1, 1, 1, 1, 1, 0, 1, 0, 1, 0, 0, 0, 0, 1, 1,\n",
       "       0, 1, 0, 0, 0, 1, 1, 1, 1, 1, 1, 1, 1, 0, 0, 0, 1, 1, 1, 0, 1, 1,\n",
       "       0, 0, 1, 0, 1, 1, 0, 0, 1, 0, 1, 0, 1, 1, 0, 1, 0, 0, 1, 1, 1, 0,\n",
       "       0, 0, 1, 0, 1, 0, 0, 1, 1, 1, 1, 1, 0, 1, 0, 0, 1, 0, 1, 0, 1, 1,\n",
       "       1, 1, 0, 0, 1, 0, 0, 1, 1, 1, 1, 1, 1, 0, 1, 1, 0, 1, 1, 1, 1, 0,\n",
       "       1, 0, 1, 0, 1, 0, 1, 1, 0, 1, 1, 1, 1, 1, 1, 0, 1, 1, 1, 1, 0, 1,\n",
       "       0, 1, 1, 1, 0, 1, 0, 0, 1, 1, 0, 0, 1, 1, 1, 1, 1, 1, 1, 1, 1, 1,\n",
       "       1, 1, 1, 0, 0, 1, 1, 0, 1, 1, 1, 1, 1, 0, 0, 1, 1, 0, 1, 1, 1, 0,\n",
       "       0, 0, 1, 1, 0, 1, 1, 0, 0, 0, 0, 1, 1, 1, 0, 0, 0, 1, 1, 0, 1, 0,\n",
       "       1, 1, 0, 1, 1, 0, 0, 1, 1, 1, 1, 0, 0, 1, 0, 0, 0, 0, 0, 1, 0, 1,\n",
       "       1, 0, 0, 1, 1, 1, 0, 1, 1, 0, 0, 0, 0, 0, 0, 1, 1, 0, 1, 0, 0, 1,\n",
       "       0, 0, 0, 1, 1, 0, 1, 1, 1, 1, 1, 1, 1, 0, 0, 0, 1, 1, 0, 0])"
      ]
     },
     "metadata": {},
     "execution_count": 250
    }
   ],
   "source": [
    "Y_val_and_test"
   ]
  },
  {
   "cell_type": "code",
   "execution_count": 251,
   "metadata": {},
   "outputs": [],
   "source": [
    "X_val, X_test, Y_val, Y_test = train_test_split(X_val_and_test, Y_val_and_test, test_size=0.5)"
   ]
  },
  {
   "cell_type": "code",
   "execution_count": 252,
   "metadata": {},
   "outputs": [
    {
     "output_type": "stream",
     "name": "stdout",
     "text": [
      "(1022, 10) (219, 10) (219, 10) (1022,) (219,) (219,)\n"
     ]
    }
   ],
   "source": [
    "print(X_train.shape, X_val.shape, X_test.shape, Y_train.shape, Y_val.shape, Y_test.shape)"
   ]
  },
  {
   "cell_type": "code",
   "execution_count": 253,
   "metadata": {},
   "outputs": [
    {
     "output_type": "execute_result",
     "data": {
      "text/plain": [
       "array([[0.0331861 , 0.66666667, 0.5       , ..., 0.41666667, 0.        ,\n",
       "        0.42736248],\n",
       "       [0.07394424, 0.33333333, 0.375     , ..., 0.41666667, 0.33333333,\n",
       "        0.47954866],\n",
       "       [0.05550492, 0.55555556, 0.625     , ..., 0.41666667, 0.66666667,\n",
       "        0.35260931],\n",
       "       ...,\n",
       "       [0.03137255, 0.55555556, 0.5       , ..., 0.25      , 0.33333333,\n",
       "        0.37588152],\n",
       "       [0.05885157, 0.88888889, 0.5       , ..., 0.83333333, 0.33333333,\n",
       "        0.71932299],\n",
       "       [0.03638318, 0.44444444, 0.625     , ..., 0.25      , 0.        ,\n",
       "        0.14104372]])"
      ]
     },
     "metadata": {},
     "execution_count": 253
    }
   ],
   "source": [
    "X_train"
   ]
  },
  {
   "cell_type": "code",
   "execution_count": 254,
   "metadata": {},
   "outputs": [],
   "source": [
    "from keras.models import Sequential\n",
    "from keras.layers import Dense"
   ]
  },
  {
   "cell_type": "code",
   "execution_count": 255,
   "metadata": {},
   "outputs": [],
   "source": [
    "model = Sequential([\n",
    "    Dense(32, activation='relu', input_shape=(10,)),\n",
    "    Dense(32, activation='relu'),\n",
    "    Dense(1, activation='sigmoid'),\n",
    "])"
   ]
  },
  {
   "cell_type": "code",
   "execution_count": 256,
   "metadata": {},
   "outputs": [],
   "source": [
    "model.compile(optimizer='adam',\n",
    "              loss='binary_crossentropy',\n",
    "              metrics=['accuracy'])"
   ]
  },
  {
   "cell_type": "code",
   "execution_count": 257,
   "metadata": {},
   "outputs": [
    {
     "output_type": "stream",
     "name": "stdout",
     "text": [
      "Epoch 1/100\n",
      "32/32 [==============================] - 0s 11ms/step - loss: 0.6800 - accuracy: 0.5479 - val_loss: 0.6547 - val_accuracy: 0.7443\n",
      "Epoch 2/100\n",
      "32/32 [==============================] - 0s 6ms/step - loss: 0.6460 - accuracy: 0.7397 - val_loss: 0.6129 - val_accuracy: 0.7991\n",
      "Epoch 3/100\n",
      "32/32 [==============================] - 0s 5ms/step - loss: 0.6047 - accuracy: 0.7750 - val_loss: 0.5643 - val_accuracy: 0.8219\n",
      "Epoch 4/100\n",
      "32/32 [==============================] - 0s 6ms/step - loss: 0.5501 - accuracy: 0.8043 - val_loss: 0.4982 - val_accuracy: 0.8219\n",
      "Epoch 5/100\n",
      "32/32 [==============================] - 0s 5ms/step - loss: 0.4867 - accuracy: 0.8229 - val_loss: 0.4387 - val_accuracy: 0.8402\n",
      "Epoch 6/100\n",
      "32/32 [==============================] - 0s 5ms/step - loss: 0.4331 - accuracy: 0.8317 - val_loss: 0.3839 - val_accuracy: 0.8676\n",
      "Epoch 7/100\n",
      "32/32 [==============================] - 0s 5ms/step - loss: 0.4011 - accuracy: 0.8249 - val_loss: 0.3540 - val_accuracy: 0.8676\n",
      "Epoch 8/100\n",
      "32/32 [==============================] - 0s 5ms/step - loss: 0.3786 - accuracy: 0.8405 - val_loss: 0.3385 - val_accuracy: 0.8721\n",
      "Epoch 9/100\n",
      "32/32 [==============================] - 0s 4ms/step - loss: 0.3597 - accuracy: 0.8630 - val_loss: 0.3194 - val_accuracy: 0.8630\n",
      "Epoch 10/100\n",
      "32/32 [==============================] - 0s 5ms/step - loss: 0.3465 - accuracy: 0.8659 - val_loss: 0.3225 - val_accuracy: 0.8539\n",
      "Epoch 11/100\n",
      "32/32 [==============================] - 0s 4ms/step - loss: 0.3392 - accuracy: 0.8611 - val_loss: 0.3016 - val_accuracy: 0.8630\n",
      "Epoch 12/100\n",
      "32/32 [==============================] - 0s 5ms/step - loss: 0.3274 - accuracy: 0.8689 - val_loss: 0.2901 - val_accuracy: 0.8721\n",
      "Epoch 13/100\n",
      "32/32 [==============================] - 0s 5ms/step - loss: 0.3198 - accuracy: 0.8718 - val_loss: 0.2809 - val_accuracy: 0.8858\n",
      "Epoch 14/100\n",
      "32/32 [==============================] - 0s 5ms/step - loss: 0.3149 - accuracy: 0.8757 - val_loss: 0.2737 - val_accuracy: 0.8904\n",
      "Epoch 15/100\n",
      "32/32 [==============================] - 0s 4ms/step - loss: 0.3097 - accuracy: 0.8757 - val_loss: 0.2683 - val_accuracy: 0.8950\n",
      "Epoch 16/100\n",
      "32/32 [==============================] - 0s 5ms/step - loss: 0.3028 - accuracy: 0.8748 - val_loss: 0.2646 - val_accuracy: 0.8995\n",
      "Epoch 17/100\n",
      "32/32 [==============================] - 0s 4ms/step - loss: 0.3006 - accuracy: 0.8777 - val_loss: 0.2570 - val_accuracy: 0.8995\n",
      "Epoch 18/100\n",
      "32/32 [==============================] - 0s 4ms/step - loss: 0.2943 - accuracy: 0.8796 - val_loss: 0.2524 - val_accuracy: 0.8995\n",
      "Epoch 19/100\n",
      "32/32 [==============================] - 0s 4ms/step - loss: 0.2892 - accuracy: 0.8826 - val_loss: 0.2547 - val_accuracy: 0.8676\n",
      "Epoch 20/100\n",
      "32/32 [==============================] - 0s 4ms/step - loss: 0.2873 - accuracy: 0.8806 - val_loss: 0.2445 - val_accuracy: 0.8995\n",
      "Epoch 21/100\n",
      "32/32 [==============================] - 0s 4ms/step - loss: 0.2876 - accuracy: 0.8787 - val_loss: 0.2430 - val_accuracy: 0.8995\n",
      "Epoch 22/100\n",
      "32/32 [==============================] - 0s 4ms/step - loss: 0.2819 - accuracy: 0.8855 - val_loss: 0.2384 - val_accuracy: 0.8950\n",
      "Epoch 23/100\n",
      "32/32 [==============================] - 0s 4ms/step - loss: 0.2785 - accuracy: 0.8855 - val_loss: 0.2363 - val_accuracy: 0.8904\n",
      "Epoch 24/100\n",
      "32/32 [==============================] - 0s 4ms/step - loss: 0.2744 - accuracy: 0.8865 - val_loss: 0.2340 - val_accuracy: 0.8950\n",
      "Epoch 25/100\n",
      "32/32 [==============================] - 0s 11ms/step - loss: 0.2727 - accuracy: 0.8943 - val_loss: 0.2344 - val_accuracy: 0.9041\n",
      "Epoch 26/100\n",
      "32/32 [==============================] - 0s 10ms/step - loss: 0.2675 - accuracy: 0.8865 - val_loss: 0.2368 - val_accuracy: 0.9041\n",
      "Epoch 27/100\n",
      "32/32 [==============================] - 0s 8ms/step - loss: 0.2694 - accuracy: 0.8894 - val_loss: 0.2282 - val_accuracy: 0.8995\n",
      "Epoch 28/100\n",
      "32/32 [==============================] - 0s 8ms/step - loss: 0.2727 - accuracy: 0.8855 - val_loss: 0.2272 - val_accuracy: 0.8950\n",
      "Epoch 29/100\n",
      "32/32 [==============================] - 0s 9ms/step - loss: 0.2618 - accuracy: 0.8943 - val_loss: 0.2366 - val_accuracy: 0.8995\n",
      "Epoch 30/100\n",
      "32/32 [==============================] - 0s 8ms/step - loss: 0.2638 - accuracy: 0.8914 - val_loss: 0.2306 - val_accuracy: 0.8950\n",
      "Epoch 31/100\n",
      "32/32 [==============================] - 0s 8ms/step - loss: 0.2610 - accuracy: 0.8914 - val_loss: 0.2243 - val_accuracy: 0.8904\n",
      "Epoch 32/100\n",
      "32/32 [==============================] - 0s 8ms/step - loss: 0.2618 - accuracy: 0.8973 - val_loss: 0.2204 - val_accuracy: 0.9041\n",
      "Epoch 33/100\n",
      "32/32 [==============================] - 0s 8ms/step - loss: 0.2563 - accuracy: 0.8963 - val_loss: 0.2198 - val_accuracy: 0.8995\n",
      "Epoch 34/100\n",
      "32/32 [==============================] - 0s 8ms/step - loss: 0.2533 - accuracy: 0.8992 - val_loss: 0.2209 - val_accuracy: 0.8904\n",
      "Epoch 35/100\n",
      "32/32 [==============================] - 0s 8ms/step - loss: 0.2553 - accuracy: 0.8933 - val_loss: 0.2163 - val_accuracy: 0.9041\n",
      "Epoch 36/100\n",
      "32/32 [==============================] - 0s 9ms/step - loss: 0.2496 - accuracy: 0.8943 - val_loss: 0.2233 - val_accuracy: 0.9041\n",
      "Epoch 37/100\n",
      "32/32 [==============================] - 0s 8ms/step - loss: 0.2523 - accuracy: 0.8982 - val_loss: 0.2227 - val_accuracy: 0.8858\n",
      "Epoch 38/100\n",
      "32/32 [==============================] - 0s 9ms/step - loss: 0.2483 - accuracy: 0.9012 - val_loss: 0.2164 - val_accuracy: 0.8995\n",
      "Epoch 39/100\n",
      "32/32 [==============================] - 0s 4ms/step - loss: 0.2488 - accuracy: 0.8953 - val_loss: 0.2173 - val_accuracy: 0.8858\n",
      "Epoch 40/100\n",
      "32/32 [==============================] - 0s 4ms/step - loss: 0.2460 - accuracy: 0.8982 - val_loss: 0.2291 - val_accuracy: 0.8950\n",
      "Epoch 41/100\n",
      "32/32 [==============================] - 0s 4ms/step - loss: 0.2458 - accuracy: 0.9012 - val_loss: 0.2143 - val_accuracy: 0.8950\n",
      "Epoch 42/100\n",
      "32/32 [==============================] - 0s 4ms/step - loss: 0.2436 - accuracy: 0.9022 - val_loss: 0.2165 - val_accuracy: 0.8858\n",
      "Epoch 43/100\n",
      "32/32 [==============================] - 0s 7ms/step - loss: 0.2425 - accuracy: 0.9002 - val_loss: 0.2172 - val_accuracy: 0.8858\n",
      "Epoch 44/100\n",
      "32/32 [==============================] - 0s 8ms/step - loss: 0.2446 - accuracy: 0.8973 - val_loss: 0.2130 - val_accuracy: 0.8995\n",
      "Epoch 45/100\n",
      "32/32 [==============================] - 0s 9ms/step - loss: 0.2449 - accuracy: 0.8982 - val_loss: 0.2184 - val_accuracy: 0.8858\n",
      "Epoch 46/100\n",
      "32/32 [==============================] - 0s 8ms/step - loss: 0.2421 - accuracy: 0.9002 - val_loss: 0.2147 - val_accuracy: 0.8950\n",
      "Epoch 47/100\n",
      "32/32 [==============================] - 0s 8ms/step - loss: 0.2415 - accuracy: 0.8992 - val_loss: 0.2117 - val_accuracy: 0.8950\n",
      "Epoch 48/100\n",
      "32/32 [==============================] - 0s 9ms/step - loss: 0.2394 - accuracy: 0.9061 - val_loss: 0.2177 - val_accuracy: 0.8904\n",
      "Epoch 49/100\n",
      "32/32 [==============================] - 0s 5ms/step - loss: 0.2373 - accuracy: 0.8992 - val_loss: 0.2131 - val_accuracy: 0.8995\n",
      "Epoch 50/100\n",
      "32/32 [==============================] - 0s 4ms/step - loss: 0.2380 - accuracy: 0.9080 - val_loss: 0.2160 - val_accuracy: 0.8950\n",
      "Epoch 51/100\n",
      "32/32 [==============================] - 0s 4ms/step - loss: 0.2357 - accuracy: 0.9051 - val_loss: 0.2129 - val_accuracy: 0.8950\n",
      "Epoch 52/100\n",
      "32/32 [==============================] - 0s 4ms/step - loss: 0.2355 - accuracy: 0.9070 - val_loss: 0.2166 - val_accuracy: 0.8858\n",
      "Epoch 53/100\n",
      "32/32 [==============================] - 0s 5ms/step - loss: 0.2381 - accuracy: 0.9031 - val_loss: 0.2129 - val_accuracy: 0.8950\n",
      "Epoch 54/100\n",
      "32/32 [==============================] - 0s 8ms/step - loss: 0.2361 - accuracy: 0.9051 - val_loss: 0.2201 - val_accuracy: 0.8950\n",
      "Epoch 55/100\n",
      "32/32 [==============================] - 0s 8ms/step - loss: 0.2376 - accuracy: 0.9031 - val_loss: 0.2329 - val_accuracy: 0.8904\n",
      "Epoch 56/100\n",
      "32/32 [==============================] - 0s 3ms/step - loss: 0.2341 - accuracy: 0.9070 - val_loss: 0.2111 - val_accuracy: 0.8950\n",
      "Epoch 57/100\n",
      "32/32 [==============================] - 0s 5ms/step - loss: 0.2316 - accuracy: 0.9070 - val_loss: 0.2157 - val_accuracy: 0.8950\n",
      "Epoch 58/100\n",
      "32/32 [==============================] - 0s 8ms/step - loss: 0.2339 - accuracy: 0.9090 - val_loss: 0.2135 - val_accuracy: 0.9087\n",
      "Epoch 59/100\n",
      "32/32 [==============================] - 0s 9ms/step - loss: 0.2378 - accuracy: 0.8992 - val_loss: 0.2141 - val_accuracy: 0.8950\n",
      "Epoch 60/100\n",
      "32/32 [==============================] - 0s 4ms/step - loss: 0.2307 - accuracy: 0.9061 - val_loss: 0.2166 - val_accuracy: 0.8904\n",
      "Epoch 61/100\n",
      "32/32 [==============================] - 0s 4ms/step - loss: 0.2323 - accuracy: 0.9080 - val_loss: 0.2212 - val_accuracy: 0.8950\n",
      "Epoch 62/100\n",
      "32/32 [==============================] - 0s 5ms/step - loss: 0.2277 - accuracy: 0.9129 - val_loss: 0.2121 - val_accuracy: 0.8950\n",
      "Epoch 63/100\n",
      "32/32 [==============================] - 0s 4ms/step - loss: 0.2321 - accuracy: 0.9061 - val_loss: 0.2141 - val_accuracy: 0.8995\n",
      "Epoch 64/100\n",
      "32/32 [==============================] - 0s 6ms/step - loss: 0.2292 - accuracy: 0.9119 - val_loss: 0.2206 - val_accuracy: 0.8995\n",
      "Epoch 65/100\n",
      "32/32 [==============================] - 0s 6ms/step - loss: 0.2294 - accuracy: 0.9080 - val_loss: 0.2128 - val_accuracy: 0.8904\n",
      "Epoch 66/100\n",
      "32/32 [==============================] - 0s 6ms/step - loss: 0.2283 - accuracy: 0.9110 - val_loss: 0.2169 - val_accuracy: 0.8904\n",
      "Epoch 67/100\n",
      "32/32 [==============================] - 0s 5ms/step - loss: 0.2294 - accuracy: 0.9051 - val_loss: 0.2160 - val_accuracy: 0.8995\n",
      "Epoch 68/100\n",
      "32/32 [==============================] - 0s 4ms/step - loss: 0.2285 - accuracy: 0.9090 - val_loss: 0.2150 - val_accuracy: 0.8950\n",
      "Epoch 69/100\n",
      "32/32 [==============================] - 0s 4ms/step - loss: 0.2276 - accuracy: 0.9139 - val_loss: 0.2141 - val_accuracy: 0.8950\n",
      "Epoch 70/100\n",
      "32/32 [==============================] - 0s 4ms/step - loss: 0.2274 - accuracy: 0.9090 - val_loss: 0.2193 - val_accuracy: 0.8995\n",
      "Epoch 71/100\n",
      "32/32 [==============================] - 0s 4ms/step - loss: 0.2278 - accuracy: 0.9080 - val_loss: 0.2124 - val_accuracy: 0.8904\n",
      "Epoch 72/100\n",
      "32/32 [==============================] - 0s 4ms/step - loss: 0.2243 - accuracy: 0.9139 - val_loss: 0.2149 - val_accuracy: 0.8904\n",
      "Epoch 73/100\n",
      "32/32 [==============================] - 0s 4ms/step - loss: 0.2287 - accuracy: 0.9041 - val_loss: 0.2127 - val_accuracy: 0.8904\n",
      "Epoch 74/100\n",
      "32/32 [==============================] - 0s 4ms/step - loss: 0.2261 - accuracy: 0.9119 - val_loss: 0.2152 - val_accuracy: 0.8950\n",
      "Epoch 75/100\n",
      "32/32 [==============================] - 0s 4ms/step - loss: 0.2253 - accuracy: 0.9129 - val_loss: 0.2164 - val_accuracy: 0.8995\n",
      "Epoch 76/100\n",
      "32/32 [==============================] - 0s 4ms/step - loss: 0.2254 - accuracy: 0.9139 - val_loss: 0.2143 - val_accuracy: 0.8904\n",
      "Epoch 77/100\n",
      "32/32 [==============================] - 0s 4ms/step - loss: 0.2238 - accuracy: 0.9139 - val_loss: 0.2109 - val_accuracy: 0.8904\n",
      "Epoch 78/100\n",
      "32/32 [==============================] - 0s 5ms/step - loss: 0.2269 - accuracy: 0.9051 - val_loss: 0.2138 - val_accuracy: 0.8813\n",
      "Epoch 79/100\n",
      "32/32 [==============================] - 0s 4ms/step - loss: 0.2250 - accuracy: 0.9110 - val_loss: 0.2166 - val_accuracy: 0.8904\n",
      "Epoch 80/100\n",
      "32/32 [==============================] - 0s 5ms/step - loss: 0.2263 - accuracy: 0.9070 - val_loss: 0.2172 - val_accuracy: 0.8950\n",
      "Epoch 81/100\n",
      "32/32 [==============================] - 0s 5ms/step - loss: 0.2311 - accuracy: 0.9080 - val_loss: 0.2179 - val_accuracy: 0.9041\n",
      "Epoch 82/100\n",
      "32/32 [==============================] - 0s 5ms/step - loss: 0.2253 - accuracy: 0.9119 - val_loss: 0.2156 - val_accuracy: 0.8995\n",
      "Epoch 83/100\n",
      "32/32 [==============================] - 0s 5ms/step - loss: 0.2260 - accuracy: 0.9100 - val_loss: 0.2183 - val_accuracy: 0.8995\n",
      "Epoch 84/100\n",
      "32/32 [==============================] - 0s 5ms/step - loss: 0.2234 - accuracy: 0.9139 - val_loss: 0.2162 - val_accuracy: 0.8995\n",
      "Epoch 85/100\n",
      "32/32 [==============================] - 0s 4ms/step - loss: 0.2212 - accuracy: 0.9090 - val_loss: 0.2175 - val_accuracy: 0.8995\n",
      "Epoch 86/100\n",
      "32/32 [==============================] - 0s 5ms/step - loss: 0.2222 - accuracy: 0.9119 - val_loss: 0.2173 - val_accuracy: 0.8904\n",
      "Epoch 87/100\n",
      "32/32 [==============================] - 0s 5ms/step - loss: 0.2221 - accuracy: 0.9188 - val_loss: 0.2208 - val_accuracy: 0.8950\n",
      "Epoch 88/100\n",
      "32/32 [==============================] - 0s 6ms/step - loss: 0.2200 - accuracy: 0.9149 - val_loss: 0.2266 - val_accuracy: 0.8858\n",
      "Epoch 89/100\n",
      "32/32 [==============================] - 0s 8ms/step - loss: 0.2225 - accuracy: 0.9178 - val_loss: 0.2141 - val_accuracy: 0.8904\n",
      "Epoch 90/100\n",
      "32/32 [==============================] - 0s 9ms/step - loss: 0.2213 - accuracy: 0.9139 - val_loss: 0.2143 - val_accuracy: 0.8950\n",
      "Epoch 91/100\n",
      "32/32 [==============================] - 0s 5ms/step - loss: 0.2207 - accuracy: 0.9129 - val_loss: 0.2153 - val_accuracy: 0.8950\n",
      "Epoch 92/100\n",
      "32/32 [==============================] - 0s 3ms/step - loss: 0.2208 - accuracy: 0.9159 - val_loss: 0.2261 - val_accuracy: 0.8950\n",
      "Epoch 93/100\n",
      "32/32 [==============================] - 0s 5ms/step - loss: 0.2203 - accuracy: 0.9159 - val_loss: 0.2208 - val_accuracy: 0.8950\n",
      "Epoch 94/100\n",
      "32/32 [==============================] - 0s 6ms/step - loss: 0.2186 - accuracy: 0.9178 - val_loss: 0.2151 - val_accuracy: 0.8904\n",
      "Epoch 95/100\n",
      "32/32 [==============================] - 0s 9ms/step - loss: 0.2225 - accuracy: 0.9090 - val_loss: 0.2234 - val_accuracy: 0.8950\n",
      "Epoch 96/100\n",
      "32/32 [==============================] - 0s 4ms/step - loss: 0.2211 - accuracy: 0.9188 - val_loss: 0.2158 - val_accuracy: 0.8950\n",
      "Epoch 97/100\n",
      "32/32 [==============================] - 0s 4ms/step - loss: 0.2190 - accuracy: 0.9159 - val_loss: 0.2222 - val_accuracy: 0.8950\n",
      "Epoch 98/100\n",
      "32/32 [==============================] - 0s 4ms/step - loss: 0.2182 - accuracy: 0.9149 - val_loss: 0.2165 - val_accuracy: 0.8950\n",
      "Epoch 99/100\n",
      "32/32 [==============================] - 0s 6ms/step - loss: 0.2178 - accuracy: 0.9129 - val_loss: 0.2193 - val_accuracy: 0.8950\n",
      "Epoch 100/100\n",
      "32/32 [==============================] - 0s 4ms/step - loss: 0.2191 - accuracy: 0.9080 - val_loss: 0.2146 - val_accuracy: 0.8904\n"
     ]
    }
   ],
   "source": [
    "hist = model.fit(X_train, Y_train,\n",
    "          batch_size=32, epochs=100,\n",
    "          validation_data=(X_val, Y_val))"
   ]
  },
  {
   "cell_type": "code",
   "execution_count": 258,
   "metadata": {},
   "outputs": [
    {
     "output_type": "stream",
     "name": "stdout",
     "text": [
      "7/7 [==============================] - 0s 3ms/step - loss: 0.1895 - accuracy: 0.9269\n"
     ]
    },
    {
     "output_type": "execute_result",
     "data": {
      "text/plain": [
       "[0.1894761323928833, 0.9269406199455261]"
      ]
     },
     "metadata": {},
     "execution_count": 258
    }
   ],
   "source": [
    "result=model.evaluate(X_test, Y_test)\n",
    "result"
   ]
  },
  {
   "cell_type": "code",
   "execution_count": 259,
   "metadata": {},
   "outputs": [],
   "source": [
    "import matplotlib.pyplot as plt"
   ]
  },
  {
   "cell_type": "code",
   "execution_count": 260,
   "metadata": {},
   "outputs": [
    {
     "output_type": "display_data",
     "data": {
      "text/plain": "<Figure size 432x288 with 1 Axes>",
      "image/svg+xml": "<?xml version=\"1.0\" encoding=\"utf-8\" standalone=\"no\"?>\n<!DOCTYPE svg PUBLIC \"-//W3C//DTD SVG 1.1//EN\"\n  \"http://www.w3.org/Graphics/SVG/1.1/DTD/svg11.dtd\">\n<!-- Created with matplotlib (https://matplotlib.org/) -->\n<svg height=\"277.314375pt\" version=\"1.1\" viewBox=\"0 0 385.78125 277.314375\" width=\"385.78125pt\" xmlns=\"http://www.w3.org/2000/svg\" xmlns:xlink=\"http://www.w3.org/1999/xlink\">\n <metadata>\n  <rdf:RDF xmlns:cc=\"http://creativecommons.org/ns#\" xmlns:dc=\"http://purl.org/dc/elements/1.1/\" xmlns:rdf=\"http://www.w3.org/1999/02/22-rdf-syntax-ns#\">\n   <cc:Work>\n    <dc:type rdf:resource=\"http://purl.org/dc/dcmitype/StillImage\"/>\n    <dc:date>2020-11-21T23:34:10.731853</dc:date>\n    <dc:format>image/svg+xml</dc:format>\n    <dc:creator>\n     <cc:Agent>\n      <dc:title>Matplotlib v3.3.3, https://matplotlib.org/</dc:title>\n     </cc:Agent>\n    </dc:creator>\n   </cc:Work>\n  </rdf:RDF>\n </metadata>\n <defs>\n  <style type=\"text/css\">*{stroke-linecap:butt;stroke-linejoin:round;}</style>\n </defs>\n <g id=\"figure_1\">\n  <g id=\"patch_1\">\n   <path d=\"M 0 277.314375 \nL 385.78125 277.314375 \nL 385.78125 0 \nL 0 0 \nz\n\" style=\"fill:none;\"/>\n  </g>\n  <g id=\"axes_1\">\n   <g id=\"patch_2\">\n    <path d=\"M 43.78125 239.758125 \nL 378.58125 239.758125 \nL 378.58125 22.318125 \nL 43.78125 22.318125 \nz\n\" style=\"fill:#ffffff;\"/>\n   </g>\n   <g id=\"matplotlib.axis_1\">\n    <g id=\"xtick_1\">\n     <g id=\"line2d_1\">\n      <defs>\n       <path d=\"M 0 0 \nL 0 3.5 \n\" id=\"m1ef51e6b18\" style=\"stroke:#000000;stroke-width:0.8;\"/>\n      </defs>\n      <g>\n       <use style=\"stroke:#000000;stroke-width:0.8;\" x=\"58.999432\" xlink:href=\"#m1ef51e6b18\" y=\"239.758125\"/>\n      </g>\n     </g>\n     <g id=\"text_1\">\n      <!-- 0 -->\n      <g transform=\"translate(55.818182 254.356562)scale(0.1 -0.1)\">\n       <defs>\n        <path d=\"M 31.78125 66.40625 \nQ 24.171875 66.40625 20.328125 58.90625 \nQ 16.5 51.421875 16.5 36.375 \nQ 16.5 21.390625 20.328125 13.890625 \nQ 24.171875 6.390625 31.78125 6.390625 \nQ 39.453125 6.390625 43.28125 13.890625 \nQ 47.125 21.390625 47.125 36.375 \nQ 47.125 51.421875 43.28125 58.90625 \nQ 39.453125 66.40625 31.78125 66.40625 \nz\nM 31.78125 74.21875 \nQ 44.046875 74.21875 50.515625 64.515625 \nQ 56.984375 54.828125 56.984375 36.375 \nQ 56.984375 17.96875 50.515625 8.265625 \nQ 44.046875 -1.421875 31.78125 -1.421875 \nQ 19.53125 -1.421875 13.0625 8.265625 \nQ 6.59375 17.96875 6.59375 36.375 \nQ 6.59375 54.828125 13.0625 64.515625 \nQ 19.53125 74.21875 31.78125 74.21875 \nz\n\" id=\"DejaVuSans-48\"/>\n       </defs>\n       <use xlink:href=\"#DejaVuSans-48\"/>\n      </g>\n     </g>\n    </g>\n    <g id=\"xtick_2\">\n     <g id=\"line2d_2\">\n      <g>\n       <use style=\"stroke:#000000;stroke-width:0.8;\" x=\"120.487035\" xlink:href=\"#m1ef51e6b18\" y=\"239.758125\"/>\n      </g>\n     </g>\n     <g id=\"text_2\">\n      <!-- 20 -->\n      <g transform=\"translate(114.124535 254.356562)scale(0.1 -0.1)\">\n       <defs>\n        <path d=\"M 19.1875 8.296875 \nL 53.609375 8.296875 \nL 53.609375 0 \nL 7.328125 0 \nL 7.328125 8.296875 \nQ 12.9375 14.109375 22.625 23.890625 \nQ 32.328125 33.6875 34.8125 36.53125 \nQ 39.546875 41.84375 41.421875 45.53125 \nQ 43.3125 49.21875 43.3125 52.78125 \nQ 43.3125 58.59375 39.234375 62.25 \nQ 35.15625 65.921875 28.609375 65.921875 \nQ 23.96875 65.921875 18.8125 64.3125 \nQ 13.671875 62.703125 7.8125 59.421875 \nL 7.8125 69.390625 \nQ 13.765625 71.78125 18.9375 73 \nQ 24.125 74.21875 28.421875 74.21875 \nQ 39.75 74.21875 46.484375 68.546875 \nQ 53.21875 62.890625 53.21875 53.421875 \nQ 53.21875 48.921875 51.53125 44.890625 \nQ 49.859375 40.875 45.40625 35.40625 \nQ 44.1875 33.984375 37.640625 27.21875 \nQ 31.109375 20.453125 19.1875 8.296875 \nz\n\" id=\"DejaVuSans-50\"/>\n       </defs>\n       <use xlink:href=\"#DejaVuSans-50\"/>\n       <use x=\"63.623047\" xlink:href=\"#DejaVuSans-48\"/>\n      </g>\n     </g>\n    </g>\n    <g id=\"xtick_3\">\n     <g id=\"line2d_3\">\n      <g>\n       <use style=\"stroke:#000000;stroke-width:0.8;\" x=\"181.974638\" xlink:href=\"#m1ef51e6b18\" y=\"239.758125\"/>\n      </g>\n     </g>\n     <g id=\"text_3\">\n      <!-- 40 -->\n      <g transform=\"translate(175.612138 254.356562)scale(0.1 -0.1)\">\n       <defs>\n        <path d=\"M 37.796875 64.3125 \nL 12.890625 25.390625 \nL 37.796875 25.390625 \nz\nM 35.203125 72.90625 \nL 47.609375 72.90625 \nL 47.609375 25.390625 \nL 58.015625 25.390625 \nL 58.015625 17.1875 \nL 47.609375 17.1875 \nL 47.609375 0 \nL 37.796875 0 \nL 37.796875 17.1875 \nL 4.890625 17.1875 \nL 4.890625 26.703125 \nz\n\" id=\"DejaVuSans-52\"/>\n       </defs>\n       <use xlink:href=\"#DejaVuSans-52\"/>\n       <use x=\"63.623047\" xlink:href=\"#DejaVuSans-48\"/>\n      </g>\n     </g>\n    </g>\n    <g id=\"xtick_4\">\n     <g id=\"line2d_4\">\n      <g>\n       <use style=\"stroke:#000000;stroke-width:0.8;\" x=\"243.462242\" xlink:href=\"#m1ef51e6b18\" y=\"239.758125\"/>\n      </g>\n     </g>\n     <g id=\"text_4\">\n      <!-- 60 -->\n      <g transform=\"translate(237.099742 254.356562)scale(0.1 -0.1)\">\n       <defs>\n        <path d=\"M 33.015625 40.375 \nQ 26.375 40.375 22.484375 35.828125 \nQ 18.609375 31.296875 18.609375 23.390625 \nQ 18.609375 15.53125 22.484375 10.953125 \nQ 26.375 6.390625 33.015625 6.390625 \nQ 39.65625 6.390625 43.53125 10.953125 \nQ 47.40625 15.53125 47.40625 23.390625 \nQ 47.40625 31.296875 43.53125 35.828125 \nQ 39.65625 40.375 33.015625 40.375 \nz\nM 52.59375 71.296875 \nL 52.59375 62.3125 \nQ 48.875 64.0625 45.09375 64.984375 \nQ 41.3125 65.921875 37.59375 65.921875 \nQ 27.828125 65.921875 22.671875 59.328125 \nQ 17.53125 52.734375 16.796875 39.40625 \nQ 19.671875 43.65625 24.015625 45.921875 \nQ 28.375 48.1875 33.59375 48.1875 \nQ 44.578125 48.1875 50.953125 41.515625 \nQ 57.328125 34.859375 57.328125 23.390625 \nQ 57.328125 12.15625 50.6875 5.359375 \nQ 44.046875 -1.421875 33.015625 -1.421875 \nQ 20.359375 -1.421875 13.671875 8.265625 \nQ 6.984375 17.96875 6.984375 36.375 \nQ 6.984375 53.65625 15.1875 63.9375 \nQ 23.390625 74.21875 37.203125 74.21875 \nQ 40.921875 74.21875 44.703125 73.484375 \nQ 48.484375 72.75 52.59375 71.296875 \nz\n\" id=\"DejaVuSans-54\"/>\n       </defs>\n       <use xlink:href=\"#DejaVuSans-54\"/>\n       <use x=\"63.623047\" xlink:href=\"#DejaVuSans-48\"/>\n      </g>\n     </g>\n    </g>\n    <g id=\"xtick_5\">\n     <g id=\"line2d_5\">\n      <g>\n       <use style=\"stroke:#000000;stroke-width:0.8;\" x=\"304.949845\" xlink:href=\"#m1ef51e6b18\" y=\"239.758125\"/>\n      </g>\n     </g>\n     <g id=\"text_5\">\n      <!-- 80 -->\n      <g transform=\"translate(298.587345 254.356562)scale(0.1 -0.1)\">\n       <defs>\n        <path d=\"M 31.78125 34.625 \nQ 24.75 34.625 20.71875 30.859375 \nQ 16.703125 27.09375 16.703125 20.515625 \nQ 16.703125 13.921875 20.71875 10.15625 \nQ 24.75 6.390625 31.78125 6.390625 \nQ 38.8125 6.390625 42.859375 10.171875 \nQ 46.921875 13.96875 46.921875 20.515625 \nQ 46.921875 27.09375 42.890625 30.859375 \nQ 38.875 34.625 31.78125 34.625 \nz\nM 21.921875 38.8125 \nQ 15.578125 40.375 12.03125 44.71875 \nQ 8.5 49.078125 8.5 55.328125 \nQ 8.5 64.0625 14.71875 69.140625 \nQ 20.953125 74.21875 31.78125 74.21875 \nQ 42.671875 74.21875 48.875 69.140625 \nQ 55.078125 64.0625 55.078125 55.328125 \nQ 55.078125 49.078125 51.53125 44.71875 \nQ 48 40.375 41.703125 38.8125 \nQ 48.828125 37.15625 52.796875 32.3125 \nQ 56.78125 27.484375 56.78125 20.515625 \nQ 56.78125 9.90625 50.3125 4.234375 \nQ 43.84375 -1.421875 31.78125 -1.421875 \nQ 19.734375 -1.421875 13.25 4.234375 \nQ 6.78125 9.90625 6.78125 20.515625 \nQ 6.78125 27.484375 10.78125 32.3125 \nQ 14.796875 37.15625 21.921875 38.8125 \nz\nM 18.3125 54.390625 \nQ 18.3125 48.734375 21.84375 45.5625 \nQ 25.390625 42.390625 31.78125 42.390625 \nQ 38.140625 42.390625 41.71875 45.5625 \nQ 45.3125 48.734375 45.3125 54.390625 \nQ 45.3125 60.0625 41.71875 63.234375 \nQ 38.140625 66.40625 31.78125 66.40625 \nQ 25.390625 66.40625 21.84375 63.234375 \nQ 18.3125 60.0625 18.3125 54.390625 \nz\n\" id=\"DejaVuSans-56\"/>\n       </defs>\n       <use xlink:href=\"#DejaVuSans-56\"/>\n       <use x=\"63.623047\" xlink:href=\"#DejaVuSans-48\"/>\n      </g>\n     </g>\n    </g>\n    <g id=\"xtick_6\">\n     <g id=\"line2d_6\">\n      <g>\n       <use style=\"stroke:#000000;stroke-width:0.8;\" x=\"366.437448\" xlink:href=\"#m1ef51e6b18\" y=\"239.758125\"/>\n      </g>\n     </g>\n     <g id=\"text_6\">\n      <!-- 100 -->\n      <g transform=\"translate(356.893698 254.356562)scale(0.1 -0.1)\">\n       <defs>\n        <path d=\"M 12.40625 8.296875 \nL 28.515625 8.296875 \nL 28.515625 63.921875 \nL 10.984375 60.40625 \nL 10.984375 69.390625 \nL 28.421875 72.90625 \nL 38.28125 72.90625 \nL 38.28125 8.296875 \nL 54.390625 8.296875 \nL 54.390625 0 \nL 12.40625 0 \nz\n\" id=\"DejaVuSans-49\"/>\n       </defs>\n       <use xlink:href=\"#DejaVuSans-49\"/>\n       <use x=\"63.623047\" xlink:href=\"#DejaVuSans-48\"/>\n       <use x=\"127.246094\" xlink:href=\"#DejaVuSans-48\"/>\n      </g>\n     </g>\n    </g>\n    <g id=\"text_7\">\n     <!-- Epoch -->\n     <g transform=\"translate(195.870313 268.034687)scale(0.1 -0.1)\">\n      <defs>\n       <path d=\"M 9.8125 72.90625 \nL 55.90625 72.90625 \nL 55.90625 64.59375 \nL 19.671875 64.59375 \nL 19.671875 43.015625 \nL 54.390625 43.015625 \nL 54.390625 34.71875 \nL 19.671875 34.71875 \nL 19.671875 8.296875 \nL 56.78125 8.296875 \nL 56.78125 0 \nL 9.8125 0 \nz\n\" id=\"DejaVuSans-69\"/>\n       <path d=\"M 18.109375 8.203125 \nL 18.109375 -20.796875 \nL 9.078125 -20.796875 \nL 9.078125 54.6875 \nL 18.109375 54.6875 \nL 18.109375 46.390625 \nQ 20.953125 51.265625 25.265625 53.625 \nQ 29.59375 56 35.59375 56 \nQ 45.5625 56 51.78125 48.09375 \nQ 58.015625 40.1875 58.015625 27.296875 \nQ 58.015625 14.40625 51.78125 6.484375 \nQ 45.5625 -1.421875 35.59375 -1.421875 \nQ 29.59375 -1.421875 25.265625 0.953125 \nQ 20.953125 3.328125 18.109375 8.203125 \nz\nM 48.6875 27.296875 \nQ 48.6875 37.203125 44.609375 42.84375 \nQ 40.53125 48.484375 33.40625 48.484375 \nQ 26.265625 48.484375 22.1875 42.84375 \nQ 18.109375 37.203125 18.109375 27.296875 \nQ 18.109375 17.390625 22.1875 11.75 \nQ 26.265625 6.109375 33.40625 6.109375 \nQ 40.53125 6.109375 44.609375 11.75 \nQ 48.6875 17.390625 48.6875 27.296875 \nz\n\" id=\"DejaVuSans-112\"/>\n       <path d=\"M 30.609375 48.390625 \nQ 23.390625 48.390625 19.1875 42.75 \nQ 14.984375 37.109375 14.984375 27.296875 \nQ 14.984375 17.484375 19.15625 11.84375 \nQ 23.34375 6.203125 30.609375 6.203125 \nQ 37.796875 6.203125 41.984375 11.859375 \nQ 46.1875 17.53125 46.1875 27.296875 \nQ 46.1875 37.015625 41.984375 42.703125 \nQ 37.796875 48.390625 30.609375 48.390625 \nz\nM 30.609375 56 \nQ 42.328125 56 49.015625 48.375 \nQ 55.71875 40.765625 55.71875 27.296875 \nQ 55.71875 13.875 49.015625 6.21875 \nQ 42.328125 -1.421875 30.609375 -1.421875 \nQ 18.84375 -1.421875 12.171875 6.21875 \nQ 5.515625 13.875 5.515625 27.296875 \nQ 5.515625 40.765625 12.171875 48.375 \nQ 18.84375 56 30.609375 56 \nz\n\" id=\"DejaVuSans-111\"/>\n       <path d=\"M 48.78125 52.59375 \nL 48.78125 44.1875 \nQ 44.96875 46.296875 41.140625 47.34375 \nQ 37.3125 48.390625 33.40625 48.390625 \nQ 24.65625 48.390625 19.8125 42.84375 \nQ 14.984375 37.3125 14.984375 27.296875 \nQ 14.984375 17.28125 19.8125 11.734375 \nQ 24.65625 6.203125 33.40625 6.203125 \nQ 37.3125 6.203125 41.140625 7.25 \nQ 44.96875 8.296875 48.78125 10.40625 \nL 48.78125 2.09375 \nQ 45.015625 0.34375 40.984375 -0.53125 \nQ 36.96875 -1.421875 32.421875 -1.421875 \nQ 20.0625 -1.421875 12.78125 6.34375 \nQ 5.515625 14.109375 5.515625 27.296875 \nQ 5.515625 40.671875 12.859375 48.328125 \nQ 20.21875 56 33.015625 56 \nQ 37.15625 56 41.109375 55.140625 \nQ 45.0625 54.296875 48.78125 52.59375 \nz\n\" id=\"DejaVuSans-99\"/>\n       <path d=\"M 54.890625 33.015625 \nL 54.890625 0 \nL 45.90625 0 \nL 45.90625 32.71875 \nQ 45.90625 40.484375 42.875 44.328125 \nQ 39.84375 48.1875 33.796875 48.1875 \nQ 26.515625 48.1875 22.3125 43.546875 \nQ 18.109375 38.921875 18.109375 30.90625 \nL 18.109375 0 \nL 9.078125 0 \nL 9.078125 75.984375 \nL 18.109375 75.984375 \nL 18.109375 46.1875 \nQ 21.34375 51.125 25.703125 53.5625 \nQ 30.078125 56 35.796875 56 \nQ 45.21875 56 50.046875 50.171875 \nQ 54.890625 44.34375 54.890625 33.015625 \nz\n\" id=\"DejaVuSans-104\"/>\n      </defs>\n      <use xlink:href=\"#DejaVuSans-69\"/>\n      <use x=\"63.183594\" xlink:href=\"#DejaVuSans-112\"/>\n      <use x=\"126.660156\" xlink:href=\"#DejaVuSans-111\"/>\n      <use x=\"187.841797\" xlink:href=\"#DejaVuSans-99\"/>\n      <use x=\"242.822266\" xlink:href=\"#DejaVuSans-104\"/>\n     </g>\n    </g>\n   </g>\n   <g id=\"matplotlib.axis_2\">\n    <g id=\"ytick_1\">\n     <g id=\"line2d_7\">\n      <defs>\n       <path d=\"M 0 0 \nL -3.5 0 \n\" id=\"mce74b423bf\" style=\"stroke:#000000;stroke-width:0.8;\"/>\n      </defs>\n      <g>\n       <use style=\"stroke:#000000;stroke-width:0.8;\" x=\"43.78125\" xlink:href=\"#mce74b423bf\" y=\"234.468463\"/>\n      </g>\n     </g>\n     <g id=\"text_8\">\n      <!-- 0.2 -->\n      <g transform=\"translate(20.878125 238.267682)scale(0.1 -0.1)\">\n       <defs>\n        <path d=\"M 10.6875 12.40625 \nL 21 12.40625 \nL 21 0 \nL 10.6875 0 \nz\n\" id=\"DejaVuSans-46\"/>\n       </defs>\n       <use xlink:href=\"#DejaVuSans-48\"/>\n       <use x=\"63.623047\" xlink:href=\"#DejaVuSans-46\"/>\n       <use x=\"95.410156\" xlink:href=\"#DejaVuSans-50\"/>\n      </g>\n     </g>\n    </g>\n    <g id=\"ytick_2\">\n     <g id=\"line2d_8\">\n      <g>\n       <use style=\"stroke:#000000;stroke-width:0.8;\" x=\"43.78125\" xlink:href=\"#mce74b423bf\" y=\"192.333926\"/>\n      </g>\n     </g>\n     <g id=\"text_9\">\n      <!-- 0.3 -->\n      <g transform=\"translate(20.878125 196.133144)scale(0.1 -0.1)\">\n       <defs>\n        <path d=\"M 40.578125 39.3125 \nQ 47.65625 37.796875 51.625 33 \nQ 55.609375 28.21875 55.609375 21.1875 \nQ 55.609375 10.40625 48.1875 4.484375 \nQ 40.765625 -1.421875 27.09375 -1.421875 \nQ 22.515625 -1.421875 17.65625 -0.515625 \nQ 12.796875 0.390625 7.625 2.203125 \nL 7.625 11.71875 \nQ 11.71875 9.328125 16.59375 8.109375 \nQ 21.484375 6.890625 26.8125 6.890625 \nQ 36.078125 6.890625 40.9375 10.546875 \nQ 45.796875 14.203125 45.796875 21.1875 \nQ 45.796875 27.640625 41.28125 31.265625 \nQ 36.765625 34.90625 28.71875 34.90625 \nL 20.21875 34.90625 \nL 20.21875 43.015625 \nL 29.109375 43.015625 \nQ 36.375 43.015625 40.234375 45.921875 \nQ 44.09375 48.828125 44.09375 54.296875 \nQ 44.09375 59.90625 40.109375 62.90625 \nQ 36.140625 65.921875 28.71875 65.921875 \nQ 24.65625 65.921875 20.015625 65.03125 \nQ 15.375 64.15625 9.8125 62.3125 \nL 9.8125 71.09375 \nQ 15.4375 72.65625 20.34375 73.4375 \nQ 25.25 74.21875 29.59375 74.21875 \nQ 40.828125 74.21875 47.359375 69.109375 \nQ 53.90625 64.015625 53.90625 55.328125 \nQ 53.90625 49.265625 50.4375 45.09375 \nQ 46.96875 40.921875 40.578125 39.3125 \nz\n\" id=\"DejaVuSans-51\"/>\n       </defs>\n       <use xlink:href=\"#DejaVuSans-48\"/>\n       <use x=\"63.623047\" xlink:href=\"#DejaVuSans-46\"/>\n       <use x=\"95.410156\" xlink:href=\"#DejaVuSans-51\"/>\n      </g>\n     </g>\n    </g>\n    <g id=\"ytick_3\">\n     <g id=\"line2d_9\">\n      <g>\n       <use style=\"stroke:#000000;stroke-width:0.8;\" x=\"43.78125\" xlink:href=\"#mce74b423bf\" y=\"150.199388\"/>\n      </g>\n     </g>\n     <g id=\"text_10\">\n      <!-- 0.4 -->\n      <g transform=\"translate(20.878125 153.998607)scale(0.1 -0.1)\">\n       <use xlink:href=\"#DejaVuSans-48\"/>\n       <use x=\"63.623047\" xlink:href=\"#DejaVuSans-46\"/>\n       <use x=\"95.410156\" xlink:href=\"#DejaVuSans-52\"/>\n      </g>\n     </g>\n    </g>\n    <g id=\"ytick_4\">\n     <g id=\"line2d_10\">\n      <g>\n       <use style=\"stroke:#000000;stroke-width:0.8;\" x=\"43.78125\" xlink:href=\"#mce74b423bf\" y=\"108.064851\"/>\n      </g>\n     </g>\n     <g id=\"text_11\">\n      <!-- 0.5 -->\n      <g transform=\"translate(20.878125 111.86407)scale(0.1 -0.1)\">\n       <defs>\n        <path d=\"M 10.796875 72.90625 \nL 49.515625 72.90625 \nL 49.515625 64.59375 \nL 19.828125 64.59375 \nL 19.828125 46.734375 \nQ 21.96875 47.46875 24.109375 47.828125 \nQ 26.265625 48.1875 28.421875 48.1875 \nQ 40.625 48.1875 47.75 41.5 \nQ 54.890625 34.8125 54.890625 23.390625 \nQ 54.890625 11.625 47.5625 5.09375 \nQ 40.234375 -1.421875 26.90625 -1.421875 \nQ 22.3125 -1.421875 17.546875 -0.640625 \nQ 12.796875 0.140625 7.71875 1.703125 \nL 7.71875 11.625 \nQ 12.109375 9.234375 16.796875 8.0625 \nQ 21.484375 6.890625 26.703125 6.890625 \nQ 35.15625 6.890625 40.078125 11.328125 \nQ 45.015625 15.765625 45.015625 23.390625 \nQ 45.015625 31 40.078125 35.4375 \nQ 35.15625 39.890625 26.703125 39.890625 \nQ 22.75 39.890625 18.8125 39.015625 \nQ 14.890625 38.140625 10.796875 36.28125 \nz\n\" id=\"DejaVuSans-53\"/>\n       </defs>\n       <use xlink:href=\"#DejaVuSans-48\"/>\n       <use x=\"63.623047\" xlink:href=\"#DejaVuSans-46\"/>\n       <use x=\"95.410156\" xlink:href=\"#DejaVuSans-53\"/>\n      </g>\n     </g>\n    </g>\n    <g id=\"ytick_5\">\n     <g id=\"line2d_11\">\n      <g>\n       <use style=\"stroke:#000000;stroke-width:0.8;\" x=\"43.78125\" xlink:href=\"#mce74b423bf\" y=\"65.930314\"/>\n      </g>\n     </g>\n     <g id=\"text_12\">\n      <!-- 0.6 -->\n      <g transform=\"translate(20.878125 69.729533)scale(0.1 -0.1)\">\n       <use xlink:href=\"#DejaVuSans-48\"/>\n       <use x=\"63.623047\" xlink:href=\"#DejaVuSans-46\"/>\n       <use x=\"95.410156\" xlink:href=\"#DejaVuSans-54\"/>\n      </g>\n     </g>\n    </g>\n    <g id=\"ytick_6\">\n     <g id=\"line2d_12\">\n      <g>\n       <use style=\"stroke:#000000;stroke-width:0.8;\" x=\"43.78125\" xlink:href=\"#mce74b423bf\" y=\"23.795777\"/>\n      </g>\n     </g>\n     <g id=\"text_13\">\n      <!-- 0.7 -->\n      <g transform=\"translate(20.878125 27.594996)scale(0.1 -0.1)\">\n       <defs>\n        <path d=\"M 8.203125 72.90625 \nL 55.078125 72.90625 \nL 55.078125 68.703125 \nL 28.609375 0 \nL 18.3125 0 \nL 43.21875 64.59375 \nL 8.203125 64.59375 \nz\n\" id=\"DejaVuSans-55\"/>\n       </defs>\n       <use xlink:href=\"#DejaVuSans-48\"/>\n       <use x=\"63.623047\" xlink:href=\"#DejaVuSans-46\"/>\n       <use x=\"95.410156\" xlink:href=\"#DejaVuSans-55\"/>\n      </g>\n     </g>\n    </g>\n    <g id=\"text_14\">\n     <!-- Loss -->\n     <g transform=\"translate(14.798438 142.005312)rotate(-90)scale(0.1 -0.1)\">\n      <defs>\n       <path d=\"M 9.8125 72.90625 \nL 19.671875 72.90625 \nL 19.671875 8.296875 \nL 55.171875 8.296875 \nL 55.171875 0 \nL 9.8125 0 \nz\n\" id=\"DejaVuSans-76\"/>\n       <path d=\"M 44.28125 53.078125 \nL 44.28125 44.578125 \nQ 40.484375 46.53125 36.375 47.5 \nQ 32.28125 48.484375 27.875 48.484375 \nQ 21.1875 48.484375 17.84375 46.4375 \nQ 14.5 44.390625 14.5 40.28125 \nQ 14.5 37.15625 16.890625 35.375 \nQ 19.28125 33.59375 26.515625 31.984375 \nL 29.59375 31.296875 \nQ 39.15625 29.25 43.1875 25.515625 \nQ 47.21875 21.78125 47.21875 15.09375 \nQ 47.21875 7.46875 41.1875 3.015625 \nQ 35.15625 -1.421875 24.609375 -1.421875 \nQ 20.21875 -1.421875 15.453125 -0.5625 \nQ 10.6875 0.296875 5.421875 2 \nL 5.421875 11.28125 \nQ 10.40625 8.6875 15.234375 7.390625 \nQ 20.0625 6.109375 24.8125 6.109375 \nQ 31.15625 6.109375 34.5625 8.28125 \nQ 37.984375 10.453125 37.984375 14.40625 \nQ 37.984375 18.0625 35.515625 20.015625 \nQ 33.0625 21.96875 24.703125 23.78125 \nL 21.578125 24.515625 \nQ 13.234375 26.265625 9.515625 29.90625 \nQ 5.8125 33.546875 5.8125 39.890625 \nQ 5.8125 47.609375 11.28125 51.796875 \nQ 16.75 56 26.8125 56 \nQ 31.78125 56 36.171875 55.265625 \nQ 40.578125 54.546875 44.28125 53.078125 \nz\n\" id=\"DejaVuSans-115\"/>\n      </defs>\n      <use xlink:href=\"#DejaVuSans-76\"/>\n      <use x=\"53.962891\" xlink:href=\"#DejaVuSans-111\"/>\n      <use x=\"115.144531\" xlink:href=\"#DejaVuSans-115\"/>\n      <use x=\"167.244141\" xlink:href=\"#DejaVuSans-115\"/>\n     </g>\n    </g>\n   </g>\n   <g id=\"line2d_13\">\n    <path clip-path=\"url(#p3efb3a8ba7)\" d=\"M 58.999432 32.201761 \nL 62.073812 46.544422 \nL 65.148192 63.968413 \nL 68.222572 86.94632 \nL 71.296952 113.649659 \nL 74.371333 136.244889 \nL 77.445713 149.755016 \nL 80.520093 159.217548 \nL 83.594473 167.166989 \nL 86.668853 172.737758 \nL 89.743233 175.811453 \nL 92.817614 180.792428 \nL 95.891994 183.975909 \nL 98.966374 186.059378 \nL 102.040754 188.250638 \nL 105.115134 191.15603 \nL 108.189514 192.094219 \nL 111.263895 194.72043 \nL 114.338275 196.869911 \nL 117.412655 197.701729 \nL 120.487035 197.573283 \nL 123.561415 199.967 \nL 126.635795 201.387581 \nL 129.710176 203.122905 \nL 132.784556 203.842513 \nL 135.858936 206.034991 \nL 138.933316 205.233636 \nL 142.007696 203.832644 \nL 145.082076 208.448083 \nL 148.156457 207.567807 \nL 151.230837 208.754513 \nL 154.305217 208.434396 \nL 157.379597 210.73195 \nL 160.453977 212.017543 \nL 163.528357 211.148669 \nL 166.602738 213.55542 \nL 169.677118 212.448188 \nL 172.751498 214.137095 \nL 175.825878 213.908437 \nL 178.900258 215.102093 \nL 181.974638 215.165029 \nL 185.049019 216.111619 \nL 188.123399 216.567039 \nL 191.197779 215.691899 \nL 194.272159 215.546645 \nL 197.346539 216.72856 \nL 200.420919 216.99332 \nL 203.4953 217.852933 \nL 206.56968 218.758241 \nL 209.64406 218.446908 \nL 212.71844 219.408886 \nL 215.79282 219.527626 \nL 218.8672 218.427275 \nL 221.941581 219.267657 \nL 225.015961 218.616692 \nL 228.090341 220.091287 \nL 231.164721 221.14767 \nL 234.239101 220.203805 \nL 237.313481 218.548796 \nL 240.387862 221.540599 \nL 243.462242 220.845151 \nL 246.536622 222.785583 \nL 249.611002 220.961097 \nL 252.685382 222.144839 \nL 255.759762 222.060299 \nL 258.834143 222.563304 \nL 261.908523 222.088603 \nL 264.982903 222.468404 \nL 268.057283 222.820165 \nL 271.131663 222.915034 \nL 274.206043 222.773176 \nL 277.280424 224.245148 \nL 280.354804 222.356658 \nL 283.429184 223.455182 \nL 286.503564 223.789765 \nL 289.577944 223.753808 \nL 292.652324 224.44856 \nL 295.726705 223.124197 \nL 298.801085 223.949931 \nL 301.875465 223.388799 \nL 304.949845 221.380296 \nL 308.024225 223.80253 \nL 311.098605 223.515387 \nL 314.172986 224.592608 \nL 317.247366 225.531054 \nL 320.321746 225.108741 \nL 323.396126 225.177297 \nL 326.470506 226.052361 \nL 329.544886 224.976007 \nL 332.619267 225.486885 \nL 335.693647 225.732005 \nL 338.768027 225.723768 \nL 341.842407 225.932705 \nL 344.916787 226.617894 \nL 347.991167 224.99277 \nL 351.065548 225.589652 \nL 354.139928 226.459129 \nL 357.214308 226.810808 \nL 360.288688 226.975444 \nL 363.363068 226.431434 \n\" style=\"fill:none;stroke:#1f77b4;stroke-linecap:square;stroke-width:1.5;\"/>\n   </g>\n   <g id=\"line2d_14\">\n    <path clip-path=\"url(#p3efb3a8ba7)\" d=\"M 58.999432 42.898301 \nL 62.073812 60.508965 \nL 65.148192 80.959033 \nL 68.222572 108.807602 \nL 71.296952 133.887801 \nL 74.371333 156.98868 \nL 77.445713 169.565327 \nL 80.520093 176.113789 \nL 83.594473 184.148494 \nL 86.668853 182.841252 \nL 89.743233 191.653591 \nL 92.817614 196.521289 \nL 95.891994 200.367545 \nL 98.966374 203.39999 \nL 102.040754 205.688189 \nL 105.115134 207.232998 \nL 108.189514 210.432188 \nL 111.263895 212.409123 \nL 114.338275 211.43271 \nL 117.412655 215.717955 \nL 120.487035 216.343002 \nL 123.561415 218.267806 \nL 126.635795 219.175532 \nL 129.710176 220.128431 \nL 132.784556 219.961793 \nL 135.858936 218.969163 \nL 138.933316 222.586673 \nL 142.007696 222.994576 \nL 145.082076 219.029273 \nL 148.156457 221.592831 \nL 151.230837 224.233143 \nL 154.305217 225.86469 \nL 157.379597 226.136581 \nL 160.453977 225.643873 \nL 163.528357 227.583847 \nL 166.602738 224.641072 \nL 169.677118 224.884252 \nL 172.751498 227.576193 \nL 175.825878 227.180463 \nL 178.900258 222.223057 \nL 181.974638 228.461416 \nL 185.049019 227.520421 \nL 188.123399 227.220137 \nL 191.197779 228.975465 \nL 194.272159 226.729313 \nL 197.346539 228.274661 \nL 200.420919 229.544721 \nL 203.4953 227.022307 \nL 206.56968 228.96876 \nL 209.64406 227.720166 \nL 212.71844 229.029241 \nL 215.79282 227.466815 \nL 218.8672 229.03108 \nL 221.941581 225.987203 \nL 225.015961 220.613266 \nL 228.090341 229.776167 \nL 231.164721 227.832521 \nL 234.239101 228.784924 \nL 237.313481 228.521985 \nL 240.387862 227.463669 \nL 243.462242 225.533051 \nL 246.536622 229.361262 \nL 249.611002 228.541317 \nL 252.685382 225.789636 \nL 255.759762 229.079205 \nL 258.834143 227.350951 \nL 261.908523 227.745236 \nL 264.982903 228.136791 \nL 268.057283 228.517848 \nL 271.131663 226.328491 \nL 274.206043 229.229206 \nL 277.280424 228.183867 \nL 280.354804 229.110215 \nL 283.429184 228.069064 \nL 286.503564 227.546872 \nL 289.577944 228.434538 \nL 292.652324 229.874489 \nL 295.726705 228.648492 \nL 298.801085 227.463035 \nL 301.875465 227.215592 \nL 304.949845 226.927193 \nL 308.024225 227.898571 \nL 311.098605 226.76306 \nL 314.172986 227.645031 \nL 317.247366 227.100387 \nL 320.321746 227.188607 \nL 323.396126 225.694654 \nL 326.470506 223.252492 \nL 329.544886 228.522268 \nL 332.619267 228.437533 \nL 335.693647 228.030137 \nL 338.768027 223.468913 \nL 341.842407 225.719241 \nL 344.916787 228.113234 \nL 347.991167 224.615098 \nL 351.065548 227.813289 \nL 354.139928 225.134395 \nL 357.214308 227.51941 \nL 360.288688 226.348243 \nL 363.363068 228.318555 \n\" style=\"fill:none;stroke:#ff7f0e;stroke-linecap:square;stroke-width:1.5;\"/>\n   </g>\n   <g id=\"patch_3\">\n    <path d=\"M 43.78125 239.758125 \nL 43.78125 22.318125 \n\" style=\"fill:none;stroke:#000000;stroke-linecap:square;stroke-linejoin:miter;stroke-width:0.8;\"/>\n   </g>\n   <g id=\"patch_4\">\n    <path d=\"M 378.58125 239.758125 \nL 378.58125 22.318125 \n\" style=\"fill:none;stroke:#000000;stroke-linecap:square;stroke-linejoin:miter;stroke-width:0.8;\"/>\n   </g>\n   <g id=\"patch_5\">\n    <path d=\"M 43.78125 239.758125 \nL 378.58125 239.758125 \n\" style=\"fill:none;stroke:#000000;stroke-linecap:square;stroke-linejoin:miter;stroke-width:0.8;\"/>\n   </g>\n   <g id=\"patch_6\">\n    <path d=\"M 43.78125 22.318125 \nL 378.58125 22.318125 \n\" style=\"fill:none;stroke:#000000;stroke-linecap:square;stroke-linejoin:miter;stroke-width:0.8;\"/>\n   </g>\n   <g id=\"text_15\">\n    <!-- Model loss -->\n    <g transform=\"translate(179.669062 16.318125)scale(0.12 -0.12)\">\n     <defs>\n      <path d=\"M 9.8125 72.90625 \nL 24.515625 72.90625 \nL 43.109375 23.296875 \nL 61.8125 72.90625 \nL 76.515625 72.90625 \nL 76.515625 0 \nL 66.890625 0 \nL 66.890625 64.015625 \nL 48.09375 14.015625 \nL 38.1875 14.015625 \nL 19.390625 64.015625 \nL 19.390625 0 \nL 9.8125 0 \nz\n\" id=\"DejaVuSans-77\"/>\n      <path d=\"M 45.40625 46.390625 \nL 45.40625 75.984375 \nL 54.390625 75.984375 \nL 54.390625 0 \nL 45.40625 0 \nL 45.40625 8.203125 \nQ 42.578125 3.328125 38.25 0.953125 \nQ 33.9375 -1.421875 27.875 -1.421875 \nQ 17.96875 -1.421875 11.734375 6.484375 \nQ 5.515625 14.40625 5.515625 27.296875 \nQ 5.515625 40.1875 11.734375 48.09375 \nQ 17.96875 56 27.875 56 \nQ 33.9375 56 38.25 53.625 \nQ 42.578125 51.265625 45.40625 46.390625 \nz\nM 14.796875 27.296875 \nQ 14.796875 17.390625 18.875 11.75 \nQ 22.953125 6.109375 30.078125 6.109375 \nQ 37.203125 6.109375 41.296875 11.75 \nQ 45.40625 17.390625 45.40625 27.296875 \nQ 45.40625 37.203125 41.296875 42.84375 \nQ 37.203125 48.484375 30.078125 48.484375 \nQ 22.953125 48.484375 18.875 42.84375 \nQ 14.796875 37.203125 14.796875 27.296875 \nz\n\" id=\"DejaVuSans-100\"/>\n      <path d=\"M 56.203125 29.59375 \nL 56.203125 25.203125 \nL 14.890625 25.203125 \nQ 15.484375 15.921875 20.484375 11.0625 \nQ 25.484375 6.203125 34.421875 6.203125 \nQ 39.59375 6.203125 44.453125 7.46875 \nQ 49.3125 8.734375 54.109375 11.28125 \nL 54.109375 2.78125 \nQ 49.265625 0.734375 44.1875 -0.34375 \nQ 39.109375 -1.421875 33.890625 -1.421875 \nQ 20.796875 -1.421875 13.15625 6.1875 \nQ 5.515625 13.8125 5.515625 26.8125 \nQ 5.515625 40.234375 12.765625 48.109375 \nQ 20.015625 56 32.328125 56 \nQ 43.359375 56 49.78125 48.890625 \nQ 56.203125 41.796875 56.203125 29.59375 \nz\nM 47.21875 32.234375 \nQ 47.125 39.59375 43.09375 43.984375 \nQ 39.0625 48.390625 32.421875 48.390625 \nQ 24.90625 48.390625 20.390625 44.140625 \nQ 15.875 39.890625 15.1875 32.171875 \nz\n\" id=\"DejaVuSans-101\"/>\n      <path d=\"M 9.421875 75.984375 \nL 18.40625 75.984375 \nL 18.40625 0 \nL 9.421875 0 \nz\n\" id=\"DejaVuSans-108\"/>\n      <path id=\"DejaVuSans-32\"/>\n     </defs>\n     <use xlink:href=\"#DejaVuSans-77\"/>\n     <use x=\"86.279297\" xlink:href=\"#DejaVuSans-111\"/>\n     <use x=\"147.460938\" xlink:href=\"#DejaVuSans-100\"/>\n     <use x=\"210.9375\" xlink:href=\"#DejaVuSans-101\"/>\n     <use x=\"272.460938\" xlink:href=\"#DejaVuSans-108\"/>\n     <use x=\"300.244141\" xlink:href=\"#DejaVuSans-32\"/>\n     <use x=\"332.03125\" xlink:href=\"#DejaVuSans-108\"/>\n     <use x=\"359.814453\" xlink:href=\"#DejaVuSans-111\"/>\n     <use x=\"420.996094\" xlink:href=\"#DejaVuSans-115\"/>\n     <use x=\"473.095703\" xlink:href=\"#DejaVuSans-115\"/>\n    </g>\n   </g>\n   <g id=\"legend_1\">\n    <g id=\"patch_7\">\n     <path d=\"M 315.59375 59.674375 \nL 371.58125 59.674375 \nQ 373.58125 59.674375 373.58125 57.674375 \nL 373.58125 29.318125 \nQ 373.58125 27.318125 371.58125 27.318125 \nL 315.59375 27.318125 \nQ 313.59375 27.318125 313.59375 29.318125 \nL 313.59375 57.674375 \nQ 313.59375 59.674375 315.59375 59.674375 \nz\n\" style=\"fill:#ffffff;opacity:0.8;stroke:#cccccc;stroke-linejoin:miter;\"/>\n    </g>\n    <g id=\"line2d_15\">\n     <path d=\"M 317.59375 35.416562 \nL 337.59375 35.416562 \n\" style=\"fill:none;stroke:#1f77b4;stroke-linecap:square;stroke-width:1.5;\"/>\n    </g>\n    <g id=\"line2d_16\"/>\n    <g id=\"text_16\">\n     <!-- Train -->\n     <g transform=\"translate(345.59375 38.916562)scale(0.1 -0.1)\">\n      <defs>\n       <path d=\"M -0.296875 72.90625 \nL 61.375 72.90625 \nL 61.375 64.59375 \nL 35.5 64.59375 \nL 35.5 0 \nL 25.59375 0 \nL 25.59375 64.59375 \nL -0.296875 64.59375 \nz\n\" id=\"DejaVuSans-84\"/>\n       <path d=\"M 41.109375 46.296875 \nQ 39.59375 47.171875 37.8125 47.578125 \nQ 36.03125 48 33.890625 48 \nQ 26.265625 48 22.1875 43.046875 \nQ 18.109375 38.09375 18.109375 28.8125 \nL 18.109375 0 \nL 9.078125 0 \nL 9.078125 54.6875 \nL 18.109375 54.6875 \nL 18.109375 46.1875 \nQ 20.953125 51.171875 25.484375 53.578125 \nQ 30.03125 56 36.53125 56 \nQ 37.453125 56 38.578125 55.875 \nQ 39.703125 55.765625 41.0625 55.515625 \nz\n\" id=\"DejaVuSans-114\"/>\n       <path d=\"M 34.28125 27.484375 \nQ 23.390625 27.484375 19.1875 25 \nQ 14.984375 22.515625 14.984375 16.5 \nQ 14.984375 11.71875 18.140625 8.90625 \nQ 21.296875 6.109375 26.703125 6.109375 \nQ 34.1875 6.109375 38.703125 11.40625 \nQ 43.21875 16.703125 43.21875 25.484375 \nL 43.21875 27.484375 \nz\nM 52.203125 31.203125 \nL 52.203125 0 \nL 43.21875 0 \nL 43.21875 8.296875 \nQ 40.140625 3.328125 35.546875 0.953125 \nQ 30.953125 -1.421875 24.3125 -1.421875 \nQ 15.921875 -1.421875 10.953125 3.296875 \nQ 6 8.015625 6 15.921875 \nQ 6 25.140625 12.171875 29.828125 \nQ 18.359375 34.515625 30.609375 34.515625 \nL 43.21875 34.515625 \nL 43.21875 35.40625 \nQ 43.21875 41.609375 39.140625 45 \nQ 35.0625 48.390625 27.6875 48.390625 \nQ 23 48.390625 18.546875 47.265625 \nQ 14.109375 46.140625 10.015625 43.890625 \nL 10.015625 52.203125 \nQ 14.9375 54.109375 19.578125 55.046875 \nQ 24.21875 56 28.609375 56 \nQ 40.484375 56 46.34375 49.84375 \nQ 52.203125 43.703125 52.203125 31.203125 \nz\n\" id=\"DejaVuSans-97\"/>\n       <path d=\"M 9.421875 54.6875 \nL 18.40625 54.6875 \nL 18.40625 0 \nL 9.421875 0 \nz\nM 9.421875 75.984375 \nL 18.40625 75.984375 \nL 18.40625 64.59375 \nL 9.421875 64.59375 \nz\n\" id=\"DejaVuSans-105\"/>\n       <path d=\"M 54.890625 33.015625 \nL 54.890625 0 \nL 45.90625 0 \nL 45.90625 32.71875 \nQ 45.90625 40.484375 42.875 44.328125 \nQ 39.84375 48.1875 33.796875 48.1875 \nQ 26.515625 48.1875 22.3125 43.546875 \nQ 18.109375 38.921875 18.109375 30.90625 \nL 18.109375 0 \nL 9.078125 0 \nL 9.078125 54.6875 \nL 18.109375 54.6875 \nL 18.109375 46.1875 \nQ 21.34375 51.125 25.703125 53.5625 \nQ 30.078125 56 35.796875 56 \nQ 45.21875 56 50.046875 50.171875 \nQ 54.890625 44.34375 54.890625 33.015625 \nz\n\" id=\"DejaVuSans-110\"/>\n      </defs>\n      <use xlink:href=\"#DejaVuSans-84\"/>\n      <use x=\"46.333984\" xlink:href=\"#DejaVuSans-114\"/>\n      <use x=\"87.447266\" xlink:href=\"#DejaVuSans-97\"/>\n      <use x=\"148.726562\" xlink:href=\"#DejaVuSans-105\"/>\n      <use x=\"176.509766\" xlink:href=\"#DejaVuSans-110\"/>\n     </g>\n    </g>\n    <g id=\"line2d_17\">\n     <path d=\"M 317.59375 50.094687 \nL 337.59375 50.094687 \n\" style=\"fill:none;stroke:#ff7f0e;stroke-linecap:square;stroke-width:1.5;\"/>\n    </g>\n    <g id=\"line2d_18\"/>\n    <g id=\"text_17\">\n     <!-- Val -->\n     <g transform=\"translate(345.59375 53.594687)scale(0.1 -0.1)\">\n      <defs>\n       <path d=\"M 28.609375 0 \nL 0.78125 72.90625 \nL 11.078125 72.90625 \nL 34.1875 11.53125 \nL 57.328125 72.90625 \nL 67.578125 72.90625 \nL 39.796875 0 \nz\n\" id=\"DejaVuSans-86\"/>\n      </defs>\n      <use xlink:href=\"#DejaVuSans-86\"/>\n      <use x=\"60.658203\" xlink:href=\"#DejaVuSans-97\"/>\n      <use x=\"121.9375\" xlink:href=\"#DejaVuSans-108\"/>\n     </g>\n    </g>\n   </g>\n  </g>\n </g>\n <defs>\n  <clipPath id=\"p3efb3a8ba7\">\n   <rect height=\"217.44\" width=\"334.8\" x=\"43.78125\" y=\"22.318125\"/>\n  </clipPath>\n </defs>\n</svg>\n",
      "image/png": "[encoded data removed]"
     },
     "metadata": {
      "needs_background": "light"
     }
    }
   ],
   "source": [
    "plt.plot(hist.history['loss'])\n",
    "plt.plot(hist.history['val_loss'])\n",
    "plt.title('Model loss')\n",
    "plt.ylabel('Loss')\n",
    "plt.xlabel('Epoch')\n",
    "plt.legend(['Train', 'Val'], loc='upper right')\n",
    "plt.show()"
   ]
  },
  {
   "cell_type": "code",
   "execution_count": null,
   "metadata": {},
   "outputs": [],
   "source": []
  },
  {
   "cell_type": "code",
   "execution_count": 261,
   "metadata": {},
   "outputs": [
    {
     "output_type": "display_data",
     "data": {
      "text/plain": "<Figure size 432x288 with 1 Axes>",
      "image/svg+xml": "<?xml version=\"1.0\" encoding=\"utf-8\" standalone=\"no\"?>\n<!DOCTYPE svg PUBLIC \"-//W3C//DTD SVG 1.1//EN\"\n  \"http://www.w3.org/Graphics/SVG/1.1/DTD/svg11.dtd\">\n<!-- Created with matplotlib (https://matplotlib.org/) -->\n<svg height=\"277.314375pt\" version=\"1.1\" viewBox=\"0 0 392.14375 277.314375\" width=\"392.14375pt\" xmlns=\"http://www.w3.org/2000/svg\" xmlns:xlink=\"http://www.w3.org/1999/xlink\">\n <metadata>\n  <rdf:RDF xmlns:cc=\"http://creativecommons.org/ns#\" xmlns:dc=\"http://purl.org/dc/elements/1.1/\" xmlns:rdf=\"http://www.w3.org/1999/02/22-rdf-syntax-ns#\">\n   <cc:Work>\n    <dc:type rdf:resource=\"http://purl.org/dc/dcmitype/StillImage\"/>\n    <dc:date>2020-11-21T23:34:11.430395</dc:date>\n    <dc:format>image/svg+xml</dc:format>\n    <dc:creator>\n     <cc:Agent>\n      <dc:title>Matplotlib v3.3.3, https://matplotlib.org/</dc:title>\n     </cc:Agent>\n    </dc:creator>\n   </cc:Work>\n  </rdf:RDF>\n </metadata>\n <defs>\n  <style type=\"text/css\">*{stroke-linecap:butt;stroke-linejoin:round;}</style>\n </defs>\n <g id=\"figure_1\">\n  <g id=\"patch_1\">\n   <path d=\"M 0 277.314375 \nL 392.14375 277.314375 \nL 392.14375 0 \nL 0 0 \nz\n\" style=\"fill:none;\"/>\n  </g>\n  <g id=\"axes_1\">\n   <g id=\"patch_2\">\n    <path d=\"M 50.14375 239.758125 \nL 384.94375 239.758125 \nL 384.94375 22.318125 \nL 50.14375 22.318125 \nz\n\" style=\"fill:#ffffff;\"/>\n   </g>\n   <g id=\"matplotlib.axis_1\">\n    <g id=\"xtick_1\">\n     <g id=\"line2d_1\">\n      <defs>\n       <path d=\"M 0 0 \nL 0 3.5 \n\" id=\"md9ed397681\" style=\"stroke:#000000;stroke-width:0.8;\"/>\n      </defs>\n      <g>\n       <use style=\"stroke:#000000;stroke-width:0.8;\" x=\"65.361932\" xlink:href=\"#md9ed397681\" y=\"239.758125\"/>\n      </g>\n     </g>\n     <g id=\"text_1\">\n      <!-- 0 -->\n      <g transform=\"translate(62.180682 254.356562)scale(0.1 -0.1)\">\n       <defs>\n        <path d=\"M 31.78125 66.40625 \nQ 24.171875 66.40625 20.328125 58.90625 \nQ 16.5 51.421875 16.5 36.375 \nQ 16.5 21.390625 20.328125 13.890625 \nQ 24.171875 6.390625 31.78125 6.390625 \nQ 39.453125 6.390625 43.28125 13.890625 \nQ 47.125 21.390625 47.125 36.375 \nQ 47.125 51.421875 43.28125 58.90625 \nQ 39.453125 66.40625 31.78125 66.40625 \nz\nM 31.78125 74.21875 \nQ 44.046875 74.21875 50.515625 64.515625 \nQ 56.984375 54.828125 56.984375 36.375 \nQ 56.984375 17.96875 50.515625 8.265625 \nQ 44.046875 -1.421875 31.78125 -1.421875 \nQ 19.53125 -1.421875 13.0625 8.265625 \nQ 6.59375 17.96875 6.59375 36.375 \nQ 6.59375 54.828125 13.0625 64.515625 \nQ 19.53125 74.21875 31.78125 74.21875 \nz\n\" id=\"DejaVuSans-48\"/>\n       </defs>\n       <use xlink:href=\"#DejaVuSans-48\"/>\n      </g>\n     </g>\n    </g>\n    <g id=\"xtick_2\">\n     <g id=\"line2d_2\">\n      <g>\n       <use style=\"stroke:#000000;stroke-width:0.8;\" x=\"126.849535\" xlink:href=\"#md9ed397681\" y=\"239.758125\"/>\n      </g>\n     </g>\n     <g id=\"text_2\">\n      <!-- 20 -->\n      <g transform=\"translate(120.487035 254.356562)scale(0.1 -0.1)\">\n       <defs>\n        <path d=\"M 19.1875 8.296875 \nL 53.609375 8.296875 \nL 53.609375 0 \nL 7.328125 0 \nL 7.328125 8.296875 \nQ 12.9375 14.109375 22.625 23.890625 \nQ 32.328125 33.6875 34.8125 36.53125 \nQ 39.546875 41.84375 41.421875 45.53125 \nQ 43.3125 49.21875 43.3125 52.78125 \nQ 43.3125 58.59375 39.234375 62.25 \nQ 35.15625 65.921875 28.609375 65.921875 \nQ 23.96875 65.921875 18.8125 64.3125 \nQ 13.671875 62.703125 7.8125 59.421875 \nL 7.8125 69.390625 \nQ 13.765625 71.78125 18.9375 73 \nQ 24.125 74.21875 28.421875 74.21875 \nQ 39.75 74.21875 46.484375 68.546875 \nQ 53.21875 62.890625 53.21875 53.421875 \nQ 53.21875 48.921875 51.53125 44.890625 \nQ 49.859375 40.875 45.40625 35.40625 \nQ 44.1875 33.984375 37.640625 27.21875 \nQ 31.109375 20.453125 19.1875 8.296875 \nz\n\" id=\"DejaVuSans-50\"/>\n       </defs>\n       <use xlink:href=\"#DejaVuSans-50\"/>\n       <use x=\"63.623047\" xlink:href=\"#DejaVuSans-48\"/>\n      </g>\n     </g>\n    </g>\n    <g id=\"xtick_3\">\n     <g id=\"line2d_3\">\n      <g>\n       <use style=\"stroke:#000000;stroke-width:0.8;\" x=\"188.337138\" xlink:href=\"#md9ed397681\" y=\"239.758125\"/>\n      </g>\n     </g>\n     <g id=\"text_3\">\n      <!-- 40 -->\n      <g transform=\"translate(181.974638 254.356562)scale(0.1 -0.1)\">\n       <defs>\n        <path d=\"M 37.796875 64.3125 \nL 12.890625 25.390625 \nL 37.796875 25.390625 \nz\nM 35.203125 72.90625 \nL 47.609375 72.90625 \nL 47.609375 25.390625 \nL 58.015625 25.390625 \nL 58.015625 17.1875 \nL 47.609375 17.1875 \nL 47.609375 0 \nL 37.796875 0 \nL 37.796875 17.1875 \nL 4.890625 17.1875 \nL 4.890625 26.703125 \nz\n\" id=\"DejaVuSans-52\"/>\n       </defs>\n       <use xlink:href=\"#DejaVuSans-52\"/>\n       <use x=\"63.623047\" xlink:href=\"#DejaVuSans-48\"/>\n      </g>\n     </g>\n    </g>\n    <g id=\"xtick_4\">\n     <g id=\"line2d_4\">\n      <g>\n       <use style=\"stroke:#000000;stroke-width:0.8;\" x=\"249.824742\" xlink:href=\"#md9ed397681\" y=\"239.758125\"/>\n      </g>\n     </g>\n     <g id=\"text_4\">\n      <!-- 60 -->\n      <g transform=\"translate(243.462242 254.356562)scale(0.1 -0.1)\">\n       <defs>\n        <path d=\"M 33.015625 40.375 \nQ 26.375 40.375 22.484375 35.828125 \nQ 18.609375 31.296875 18.609375 23.390625 \nQ 18.609375 15.53125 22.484375 10.953125 \nQ 26.375 6.390625 33.015625 6.390625 \nQ 39.65625 6.390625 43.53125 10.953125 \nQ 47.40625 15.53125 47.40625 23.390625 \nQ 47.40625 31.296875 43.53125 35.828125 \nQ 39.65625 40.375 33.015625 40.375 \nz\nM 52.59375 71.296875 \nL 52.59375 62.3125 \nQ 48.875 64.0625 45.09375 64.984375 \nQ 41.3125 65.921875 37.59375 65.921875 \nQ 27.828125 65.921875 22.671875 59.328125 \nQ 17.53125 52.734375 16.796875 39.40625 \nQ 19.671875 43.65625 24.015625 45.921875 \nQ 28.375 48.1875 33.59375 48.1875 \nQ 44.578125 48.1875 50.953125 41.515625 \nQ 57.328125 34.859375 57.328125 23.390625 \nQ 57.328125 12.15625 50.6875 5.359375 \nQ 44.046875 -1.421875 33.015625 -1.421875 \nQ 20.359375 -1.421875 13.671875 8.265625 \nQ 6.984375 17.96875 6.984375 36.375 \nQ 6.984375 53.65625 15.1875 63.9375 \nQ 23.390625 74.21875 37.203125 74.21875 \nQ 40.921875 74.21875 44.703125 73.484375 \nQ 48.484375 72.75 52.59375 71.296875 \nz\n\" id=\"DejaVuSans-54\"/>\n       </defs>\n       <use xlink:href=\"#DejaVuSans-54\"/>\n       <use x=\"63.623047\" xlink:href=\"#DejaVuSans-48\"/>\n      </g>\n     </g>\n    </g>\n    <g id=\"xtick_5\">\n     <g id=\"line2d_5\">\n      <g>\n       <use style=\"stroke:#000000;stroke-width:0.8;\" x=\"311.312345\" xlink:href=\"#md9ed397681\" y=\"239.758125\"/>\n      </g>\n     </g>\n     <g id=\"text_5\">\n      <!-- 80 -->\n      <g transform=\"translate(304.949845 254.356562)scale(0.1 -0.1)\">\n       <defs>\n        <path d=\"M 31.78125 34.625 \nQ 24.75 34.625 20.71875 30.859375 \nQ 16.703125 27.09375 16.703125 20.515625 \nQ 16.703125 13.921875 20.71875 10.15625 \nQ 24.75 6.390625 31.78125 6.390625 \nQ 38.8125 6.390625 42.859375 10.171875 \nQ 46.921875 13.96875 46.921875 20.515625 \nQ 46.921875 27.09375 42.890625 30.859375 \nQ 38.875 34.625 31.78125 34.625 \nz\nM 21.921875 38.8125 \nQ 15.578125 40.375 12.03125 44.71875 \nQ 8.5 49.078125 8.5 55.328125 \nQ 8.5 64.0625 14.71875 69.140625 \nQ 20.953125 74.21875 31.78125 74.21875 \nQ 42.671875 74.21875 48.875 69.140625 \nQ 55.078125 64.0625 55.078125 55.328125 \nQ 55.078125 49.078125 51.53125 44.71875 \nQ 48 40.375 41.703125 38.8125 \nQ 48.828125 37.15625 52.796875 32.3125 \nQ 56.78125 27.484375 56.78125 20.515625 \nQ 56.78125 9.90625 50.3125 4.234375 \nQ 43.84375 -1.421875 31.78125 -1.421875 \nQ 19.734375 -1.421875 13.25 4.234375 \nQ 6.78125 9.90625 6.78125 20.515625 \nQ 6.78125 27.484375 10.78125 32.3125 \nQ 14.796875 37.15625 21.921875 38.8125 \nz\nM 18.3125 54.390625 \nQ 18.3125 48.734375 21.84375 45.5625 \nQ 25.390625 42.390625 31.78125 42.390625 \nQ 38.140625 42.390625 41.71875 45.5625 \nQ 45.3125 48.734375 45.3125 54.390625 \nQ 45.3125 60.0625 41.71875 63.234375 \nQ 38.140625 66.40625 31.78125 66.40625 \nQ 25.390625 66.40625 21.84375 63.234375 \nQ 18.3125 60.0625 18.3125 54.390625 \nz\n\" id=\"DejaVuSans-56\"/>\n       </defs>\n       <use xlink:href=\"#DejaVuSans-56\"/>\n       <use x=\"63.623047\" xlink:href=\"#DejaVuSans-48\"/>\n      </g>\n     </g>\n    </g>\n    <g id=\"xtick_6\">\n     <g id=\"line2d_6\">\n      <g>\n       <use style=\"stroke:#000000;stroke-width:0.8;\" x=\"372.799948\" xlink:href=\"#md9ed397681\" y=\"239.758125\"/>\n      </g>\n     </g>\n     <g id=\"text_6\">\n      <!-- 100 -->\n      <g transform=\"translate(363.256198 254.356562)scale(0.1 -0.1)\">\n       <defs>\n        <path d=\"M 12.40625 8.296875 \nL 28.515625 8.296875 \nL 28.515625 63.921875 \nL 10.984375 60.40625 \nL 10.984375 69.390625 \nL 28.421875 72.90625 \nL 38.28125 72.90625 \nL 38.28125 8.296875 \nL 54.390625 8.296875 \nL 54.390625 0 \nL 12.40625 0 \nz\n\" id=\"DejaVuSans-49\"/>\n       </defs>\n       <use xlink:href=\"#DejaVuSans-49\"/>\n       <use x=\"63.623047\" xlink:href=\"#DejaVuSans-48\"/>\n       <use x=\"127.246094\" xlink:href=\"#DejaVuSans-48\"/>\n      </g>\n     </g>\n    </g>\n    <g id=\"text_7\">\n     <!-- Epoch -->\n     <g transform=\"translate(202.232813 268.034687)scale(0.1 -0.1)\">\n      <defs>\n       <path d=\"M 9.8125 72.90625 \nL 55.90625 72.90625 \nL 55.90625 64.59375 \nL 19.671875 64.59375 \nL 19.671875 43.015625 \nL 54.390625 43.015625 \nL 54.390625 34.71875 \nL 19.671875 34.71875 \nL 19.671875 8.296875 \nL 56.78125 8.296875 \nL 56.78125 0 \nL 9.8125 0 \nz\n\" id=\"DejaVuSans-69\"/>\n       <path d=\"M 18.109375 8.203125 \nL 18.109375 -20.796875 \nL 9.078125 -20.796875 \nL 9.078125 54.6875 \nL 18.109375 54.6875 \nL 18.109375 46.390625 \nQ 20.953125 51.265625 25.265625 53.625 \nQ 29.59375 56 35.59375 56 \nQ 45.5625 56 51.78125 48.09375 \nQ 58.015625 40.1875 58.015625 27.296875 \nQ 58.015625 14.40625 51.78125 6.484375 \nQ 45.5625 -1.421875 35.59375 -1.421875 \nQ 29.59375 -1.421875 25.265625 0.953125 \nQ 20.953125 3.328125 18.109375 8.203125 \nz\nM 48.6875 27.296875 \nQ 48.6875 37.203125 44.609375 42.84375 \nQ 40.53125 48.484375 33.40625 48.484375 \nQ 26.265625 48.484375 22.1875 42.84375 \nQ 18.109375 37.203125 18.109375 27.296875 \nQ 18.109375 17.390625 22.1875 11.75 \nQ 26.265625 6.109375 33.40625 6.109375 \nQ 40.53125 6.109375 44.609375 11.75 \nQ 48.6875 17.390625 48.6875 27.296875 \nz\n\" id=\"DejaVuSans-112\"/>\n       <path d=\"M 30.609375 48.390625 \nQ 23.390625 48.390625 19.1875 42.75 \nQ 14.984375 37.109375 14.984375 27.296875 \nQ 14.984375 17.484375 19.15625 11.84375 \nQ 23.34375 6.203125 30.609375 6.203125 \nQ 37.796875 6.203125 41.984375 11.859375 \nQ 46.1875 17.53125 46.1875 27.296875 \nQ 46.1875 37.015625 41.984375 42.703125 \nQ 37.796875 48.390625 30.609375 48.390625 \nz\nM 30.609375 56 \nQ 42.328125 56 49.015625 48.375 \nQ 55.71875 40.765625 55.71875 27.296875 \nQ 55.71875 13.875 49.015625 6.21875 \nQ 42.328125 -1.421875 30.609375 -1.421875 \nQ 18.84375 -1.421875 12.171875 6.21875 \nQ 5.515625 13.875 5.515625 27.296875 \nQ 5.515625 40.765625 12.171875 48.375 \nQ 18.84375 56 30.609375 56 \nz\n\" id=\"DejaVuSans-111\"/>\n       <path d=\"M 48.78125 52.59375 \nL 48.78125 44.1875 \nQ 44.96875 46.296875 41.140625 47.34375 \nQ 37.3125 48.390625 33.40625 48.390625 \nQ 24.65625 48.390625 19.8125 42.84375 \nQ 14.984375 37.3125 14.984375 27.296875 \nQ 14.984375 17.28125 19.8125 11.734375 \nQ 24.65625 6.203125 33.40625 6.203125 \nQ 37.3125 6.203125 41.140625 7.25 \nQ 44.96875 8.296875 48.78125 10.40625 \nL 48.78125 2.09375 \nQ 45.015625 0.34375 40.984375 -0.53125 \nQ 36.96875 -1.421875 32.421875 -1.421875 \nQ 20.0625 -1.421875 12.78125 6.34375 \nQ 5.515625 14.109375 5.515625 27.296875 \nQ 5.515625 40.671875 12.859375 48.328125 \nQ 20.21875 56 33.015625 56 \nQ 37.15625 56 41.109375 55.140625 \nQ 45.0625 54.296875 48.78125 52.59375 \nz\n\" id=\"DejaVuSans-99\"/>\n       <path d=\"M 54.890625 33.015625 \nL 54.890625 0 \nL 45.90625 0 \nL 45.90625 32.71875 \nQ 45.90625 40.484375 42.875 44.328125 \nQ 39.84375 48.1875 33.796875 48.1875 \nQ 26.515625 48.1875 22.3125 43.546875 \nQ 18.109375 38.921875 18.109375 30.90625 \nL 18.109375 0 \nL 9.078125 0 \nL 9.078125 75.984375 \nL 18.109375 75.984375 \nL 18.109375 46.1875 \nQ 21.34375 51.125 25.703125 53.5625 \nQ 30.078125 56 35.796875 56 \nQ 45.21875 56 50.046875 50.171875 \nQ 54.890625 44.34375 54.890625 33.015625 \nz\n\" id=\"DejaVuSans-104\"/>\n      </defs>\n      <use xlink:href=\"#DejaVuSans-69\"/>\n      <use x=\"63.183594\" xlink:href=\"#DejaVuSans-112\"/>\n      <use x=\"126.660156\" xlink:href=\"#DejaVuSans-111\"/>\n      <use x=\"187.841797\" xlink:href=\"#DejaVuSans-99\"/>\n      <use x=\"242.822266\" xlink:href=\"#DejaVuSans-104\"/>\n     </g>\n    </g>\n   </g>\n   <g id=\"matplotlib.axis_2\">\n    <g id=\"ytick_1\">\n     <g id=\"line2d_7\">\n      <defs>\n       <path d=\"M 0 0 \nL -3.5 0 \n\" id=\"m4d20619d6f\" style=\"stroke:#000000;stroke-width:0.8;\"/>\n      </defs>\n      <g>\n       <use style=\"stroke:#000000;stroke-width:0.8;\" x=\"50.14375\" xlink:href=\"#m4d20619d6f\" y=\"228.779202\"/>\n      </g>\n     </g>\n     <g id=\"text_8\">\n      <!-- 0.55 -->\n      <g transform=\"translate(20.878125 232.578421)scale(0.1 -0.1)\">\n       <defs>\n        <path d=\"M 10.6875 12.40625 \nL 21 12.40625 \nL 21 0 \nL 10.6875 0 \nz\n\" id=\"DejaVuSans-46\"/>\n        <path d=\"M 10.796875 72.90625 \nL 49.515625 72.90625 \nL 49.515625 64.59375 \nL 19.828125 64.59375 \nL 19.828125 46.734375 \nQ 21.96875 47.46875 24.109375 47.828125 \nQ 26.265625 48.1875 28.421875 48.1875 \nQ 40.625 48.1875 47.75 41.5 \nQ 54.890625 34.8125 54.890625 23.390625 \nQ 54.890625 11.625 47.5625 5.09375 \nQ 40.234375 -1.421875 26.90625 -1.421875 \nQ 22.3125 -1.421875 17.546875 -0.640625 \nQ 12.796875 0.140625 7.71875 1.703125 \nL 7.71875 11.625 \nQ 12.109375 9.234375 16.796875 8.0625 \nQ 21.484375 6.890625 26.703125 6.890625 \nQ 35.15625 6.890625 40.078125 11.328125 \nQ 45.015625 15.765625 45.015625 23.390625 \nQ 45.015625 31 40.078125 35.4375 \nQ 35.15625 39.890625 26.703125 39.890625 \nQ 22.75 39.890625 18.8125 39.015625 \nQ 14.890625 38.140625 10.796875 36.28125 \nz\n\" id=\"DejaVuSans-53\"/>\n       </defs>\n       <use xlink:href=\"#DejaVuSans-48\"/>\n       <use x=\"63.623047\" xlink:href=\"#DejaVuSans-46\"/>\n       <use x=\"95.410156\" xlink:href=\"#DejaVuSans-53\"/>\n       <use x=\"159.033203\" xlink:href=\"#DejaVuSans-53\"/>\n      </g>\n     </g>\n    </g>\n    <g id=\"ytick_2\">\n     <g id=\"line2d_8\">\n      <g>\n       <use style=\"stroke:#000000;stroke-width:0.8;\" x=\"50.14375\" xlink:href=\"#m4d20619d6f\" y=\"202.127287\"/>\n      </g>\n     </g>\n     <g id=\"text_9\">\n      <!-- 0.60 -->\n      <g transform=\"translate(20.878125 205.926506)scale(0.1 -0.1)\">\n       <use xlink:href=\"#DejaVuSans-48\"/>\n       <use x=\"63.623047\" xlink:href=\"#DejaVuSans-46\"/>\n       <use x=\"95.410156\" xlink:href=\"#DejaVuSans-54\"/>\n       <use x=\"159.033203\" xlink:href=\"#DejaVuSans-48\"/>\n      </g>\n     </g>\n    </g>\n    <g id=\"ytick_3\">\n     <g id=\"line2d_9\">\n      <g>\n       <use style=\"stroke:#000000;stroke-width:0.8;\" x=\"50.14375\" xlink:href=\"#m4d20619d6f\" y=\"175.475371\"/>\n      </g>\n     </g>\n     <g id=\"text_10\">\n      <!-- 0.65 -->\n      <g transform=\"translate(20.878125 179.27459)scale(0.1 -0.1)\">\n       <use xlink:href=\"#DejaVuSans-48\"/>\n       <use x=\"63.623047\" xlink:href=\"#DejaVuSans-46\"/>\n       <use x=\"95.410156\" xlink:href=\"#DejaVuSans-54\"/>\n       <use x=\"159.033203\" xlink:href=\"#DejaVuSans-53\"/>\n      </g>\n     </g>\n    </g>\n    <g id=\"ytick_4\">\n     <g id=\"line2d_10\">\n      <g>\n       <use style=\"stroke:#000000;stroke-width:0.8;\" x=\"50.14375\" xlink:href=\"#m4d20619d6f\" y=\"148.823456\"/>\n      </g>\n     </g>\n     <g id=\"text_11\">\n      <!-- 0.70 -->\n      <g transform=\"translate(20.878125 152.622675)scale(0.1 -0.1)\">\n       <defs>\n        <path d=\"M 8.203125 72.90625 \nL 55.078125 72.90625 \nL 55.078125 68.703125 \nL 28.609375 0 \nL 18.3125 0 \nL 43.21875 64.59375 \nL 8.203125 64.59375 \nz\n\" id=\"DejaVuSans-55\"/>\n       </defs>\n       <use xlink:href=\"#DejaVuSans-48\"/>\n       <use x=\"63.623047\" xlink:href=\"#DejaVuSans-46\"/>\n       <use x=\"95.410156\" xlink:href=\"#DejaVuSans-55\"/>\n       <use x=\"159.033203\" xlink:href=\"#DejaVuSans-48\"/>\n      </g>\n     </g>\n    </g>\n    <g id=\"ytick_5\">\n     <g id=\"line2d_11\">\n      <g>\n       <use style=\"stroke:#000000;stroke-width:0.8;\" x=\"50.14375\" xlink:href=\"#m4d20619d6f\" y=\"122.171541\"/>\n      </g>\n     </g>\n     <g id=\"text_12\">\n      <!-- 0.75 -->\n      <g transform=\"translate(20.878125 125.970759)scale(0.1 -0.1)\">\n       <use xlink:href=\"#DejaVuSans-48\"/>\n       <use x=\"63.623047\" xlink:href=\"#DejaVuSans-46\"/>\n       <use x=\"95.410156\" xlink:href=\"#DejaVuSans-55\"/>\n       <use x=\"159.033203\" xlink:href=\"#DejaVuSans-53\"/>\n      </g>\n     </g>\n    </g>\n    <g id=\"ytick_6\">\n     <g id=\"line2d_12\">\n      <g>\n       <use style=\"stroke:#000000;stroke-width:0.8;\" x=\"50.14375\" xlink:href=\"#m4d20619d6f\" y=\"95.519625\"/>\n      </g>\n     </g>\n     <g id=\"text_13\">\n      <!-- 0.80 -->\n      <g transform=\"translate(20.878125 99.318844)scale(0.1 -0.1)\">\n       <use xlink:href=\"#DejaVuSans-48\"/>\n       <use x=\"63.623047\" xlink:href=\"#DejaVuSans-46\"/>\n       <use x=\"95.410156\" xlink:href=\"#DejaVuSans-56\"/>\n       <use x=\"159.033203\" xlink:href=\"#DejaVuSans-48\"/>\n      </g>\n     </g>\n    </g>\n    <g id=\"ytick_7\">\n     <g id=\"line2d_13\">\n      <g>\n       <use style=\"stroke:#000000;stroke-width:0.8;\" x=\"50.14375\" xlink:href=\"#m4d20619d6f\" y=\"68.86771\"/>\n      </g>\n     </g>\n     <g id=\"text_14\">\n      <!-- 0.85 -->\n      <g transform=\"translate(20.878125 72.666929)scale(0.1 -0.1)\">\n       <use xlink:href=\"#DejaVuSans-48\"/>\n       <use x=\"63.623047\" xlink:href=\"#DejaVuSans-46\"/>\n       <use x=\"95.410156\" xlink:href=\"#DejaVuSans-56\"/>\n       <use x=\"159.033203\" xlink:href=\"#DejaVuSans-53\"/>\n      </g>\n     </g>\n    </g>\n    <g id=\"ytick_8\">\n     <g id=\"line2d_14\">\n      <g>\n       <use style=\"stroke:#000000;stroke-width:0.8;\" x=\"50.14375\" xlink:href=\"#m4d20619d6f\" y=\"42.215795\"/>\n      </g>\n     </g>\n     <g id=\"text_15\">\n      <!-- 0.90 -->\n      <g transform=\"translate(20.878125 46.015013)scale(0.1 -0.1)\">\n       <defs>\n        <path d=\"M 10.984375 1.515625 \nL 10.984375 10.5 \nQ 14.703125 8.734375 18.5 7.8125 \nQ 22.3125 6.890625 25.984375 6.890625 \nQ 35.75 6.890625 40.890625 13.453125 \nQ 46.046875 20.015625 46.78125 33.40625 \nQ 43.953125 29.203125 39.59375 26.953125 \nQ 35.25 24.703125 29.984375 24.703125 \nQ 19.046875 24.703125 12.671875 31.3125 \nQ 6.296875 37.9375 6.296875 49.421875 \nQ 6.296875 60.640625 12.9375 67.421875 \nQ 19.578125 74.21875 30.609375 74.21875 \nQ 43.265625 74.21875 49.921875 64.515625 \nQ 56.59375 54.828125 56.59375 36.375 \nQ 56.59375 19.140625 48.40625 8.859375 \nQ 40.234375 -1.421875 26.421875 -1.421875 \nQ 22.703125 -1.421875 18.890625 -0.6875 \nQ 15.09375 0.046875 10.984375 1.515625 \nz\nM 30.609375 32.421875 \nQ 37.25 32.421875 41.125 36.953125 \nQ 45.015625 41.5 45.015625 49.421875 \nQ 45.015625 57.28125 41.125 61.84375 \nQ 37.25 66.40625 30.609375 66.40625 \nQ 23.96875 66.40625 20.09375 61.84375 \nQ 16.21875 57.28125 16.21875 49.421875 \nQ 16.21875 41.5 20.09375 36.953125 \nQ 23.96875 32.421875 30.609375 32.421875 \nz\n\" id=\"DejaVuSans-57\"/>\n       </defs>\n       <use xlink:href=\"#DejaVuSans-48\"/>\n       <use x=\"63.623047\" xlink:href=\"#DejaVuSans-46\"/>\n       <use x=\"95.410156\" xlink:href=\"#DejaVuSans-57\"/>\n       <use x=\"159.033203\" xlink:href=\"#DejaVuSans-48\"/>\n      </g>\n     </g>\n    </g>\n    <g id=\"text_16\">\n     <!-- Accuracy -->\n     <g transform=\"translate(14.798438 153.86625)rotate(-90)scale(0.1 -0.1)\">\n      <defs>\n       <path d=\"M 34.1875 63.1875 \nL 20.796875 26.90625 \nL 47.609375 26.90625 \nz\nM 28.609375 72.90625 \nL 39.796875 72.90625 \nL 67.578125 0 \nL 57.328125 0 \nL 50.6875 18.703125 \nL 17.828125 18.703125 \nL 11.1875 0 \nL 0.78125 0 \nz\n\" id=\"DejaVuSans-65\"/>\n       <path d=\"M 8.5 21.578125 \nL 8.5 54.6875 \nL 17.484375 54.6875 \nL 17.484375 21.921875 \nQ 17.484375 14.15625 20.5 10.265625 \nQ 23.53125 6.390625 29.59375 6.390625 \nQ 36.859375 6.390625 41.078125 11.03125 \nQ 45.3125 15.671875 45.3125 23.6875 \nL 45.3125 54.6875 \nL 54.296875 54.6875 \nL 54.296875 0 \nL 45.3125 0 \nL 45.3125 8.40625 \nQ 42.046875 3.421875 37.71875 1 \nQ 33.40625 -1.421875 27.6875 -1.421875 \nQ 18.265625 -1.421875 13.375 4.4375 \nQ 8.5 10.296875 8.5 21.578125 \nz\nM 31.109375 56 \nz\n\" id=\"DejaVuSans-117\"/>\n       <path d=\"M 41.109375 46.296875 \nQ 39.59375 47.171875 37.8125 47.578125 \nQ 36.03125 48 33.890625 48 \nQ 26.265625 48 22.1875 43.046875 \nQ 18.109375 38.09375 18.109375 28.8125 \nL 18.109375 0 \nL 9.078125 0 \nL 9.078125 54.6875 \nL 18.109375 54.6875 \nL 18.109375 46.1875 \nQ 20.953125 51.171875 25.484375 53.578125 \nQ 30.03125 56 36.53125 56 \nQ 37.453125 56 38.578125 55.875 \nQ 39.703125 55.765625 41.0625 55.515625 \nz\n\" id=\"DejaVuSans-114\"/>\n       <path d=\"M 34.28125 27.484375 \nQ 23.390625 27.484375 19.1875 25 \nQ 14.984375 22.515625 14.984375 16.5 \nQ 14.984375 11.71875 18.140625 8.90625 \nQ 21.296875 6.109375 26.703125 6.109375 \nQ 34.1875 6.109375 38.703125 11.40625 \nQ 43.21875 16.703125 43.21875 25.484375 \nL 43.21875 27.484375 \nz\nM 52.203125 31.203125 \nL 52.203125 0 \nL 43.21875 0 \nL 43.21875 8.296875 \nQ 40.140625 3.328125 35.546875 0.953125 \nQ 30.953125 -1.421875 24.3125 -1.421875 \nQ 15.921875 -1.421875 10.953125 3.296875 \nQ 6 8.015625 6 15.921875 \nQ 6 25.140625 12.171875 29.828125 \nQ 18.359375 34.515625 30.609375 34.515625 \nL 43.21875 34.515625 \nL 43.21875 35.40625 \nQ 43.21875 41.609375 39.140625 45 \nQ 35.0625 48.390625 27.6875 48.390625 \nQ 23 48.390625 18.546875 47.265625 \nQ 14.109375 46.140625 10.015625 43.890625 \nL 10.015625 52.203125 \nQ 14.9375 54.109375 19.578125 55.046875 \nQ 24.21875 56 28.609375 56 \nQ 40.484375 56 46.34375 49.84375 \nQ 52.203125 43.703125 52.203125 31.203125 \nz\n\" id=\"DejaVuSans-97\"/>\n       <path d=\"M 32.171875 -5.078125 \nQ 28.375 -14.84375 24.75 -17.8125 \nQ 21.140625 -20.796875 15.09375 -20.796875 \nL 7.90625 -20.796875 \nL 7.90625 -13.28125 \nL 13.1875 -13.28125 \nQ 16.890625 -13.28125 18.9375 -11.515625 \nQ 21 -9.765625 23.484375 -3.21875 \nL 25.09375 0.875 \nL 2.984375 54.6875 \nL 12.5 54.6875 \nL 29.59375 11.921875 \nL 46.6875 54.6875 \nL 56.203125 54.6875 \nz\n\" id=\"DejaVuSans-121\"/>\n      </defs>\n      <use xlink:href=\"#DejaVuSans-65\"/>\n      <use x=\"66.658203\" xlink:href=\"#DejaVuSans-99\"/>\n      <use x=\"121.638672\" xlink:href=\"#DejaVuSans-99\"/>\n      <use x=\"176.619141\" xlink:href=\"#DejaVuSans-117\"/>\n      <use x=\"239.998047\" xlink:href=\"#DejaVuSans-114\"/>\n      <use x=\"281.111328\" xlink:href=\"#DejaVuSans-97\"/>\n      <use x=\"342.390625\" xlink:href=\"#DejaVuSans-99\"/>\n      <use x=\"397.371094\" xlink:href=\"#DejaVuSans-121\"/>\n     </g>\n    </g>\n   </g>\n   <g id=\"line2d_15\">\n    <path clip-path=\"url(#p9236a2f912)\" d=\"M 65.361932 229.874489 \nL 68.436312 127.647973 \nL 71.510692 108.871648 \nL 74.585072 93.224759 \nL 77.659452 83.315019 \nL 80.733833 78.620962 \nL 83.808213 82.271896 \nL 86.882593 73.926873 \nL 89.956973 61.930917 \nL 93.031353 60.366232 \nL 96.105733 62.974041 \nL 99.180114 58.801514 \nL 102.254494 57.236828 \nL 105.328874 55.150581 \nL 108.403254 55.150581 \nL 111.477634 55.672143 \nL 114.552014 54.107457 \nL 117.626395 53.064333 \nL 120.700775 51.499647 \nL 123.775155 52.542771 \nL 126.849535 53.585895 \nL 129.923915 49.93493 \nL 132.998295 49.93493 \nL 136.072676 49.413368 \nL 139.147056 45.240873 \nL 142.221436 49.413368 \nL 145.295816 47.848682 \nL 148.370196 49.93493 \nL 151.444576 45.240873 \nL 154.518957 46.805558 \nL 157.593337 46.805558 \nL 160.667717 43.676187 \nL 163.742097 44.197749 \nL 166.816477 42.633031 \nL 169.890857 45.762435 \nL 172.965238 45.240873 \nL 176.039618 43.154625 \nL 179.113998 41.589908 \nL 182.188378 44.719311 \nL 185.262758 43.154625 \nL 188.337138 41.589908 \nL 191.411519 41.068346 \nL 194.485899 42.111469 \nL 197.560279 43.676187 \nL 200.634659 43.154625 \nL 203.709039 42.111469 \nL 206.783419 42.633031 \nL 209.8578 38.982098 \nL 212.93218 42.633031 \nL 216.00656 37.938974 \nL 219.08094 39.50366 \nL 222.15532 38.460536 \nL 225.2297 40.546784 \nL 228.304081 39.50366 \nL 231.378461 40.546784 \nL 234.452841 38.460536 \nL 237.527221 38.460536 \nL 240.601601 37.417412 \nL 243.675981 42.633031 \nL 246.750362 38.982098 \nL 249.824742 37.938974 \nL 252.899122 35.331165 \nL 255.973502 38.982098 \nL 259.047882 35.852727 \nL 262.122262 37.938974 \nL 265.196643 36.374288 \nL 268.271023 39.50366 \nL 271.345403 37.417412 \nL 274.419783 34.809603 \nL 277.494163 37.417412 \nL 280.568543 37.938974 \nL 283.642924 34.809603 \nL 286.717304 40.025222 \nL 289.791684 35.852727 \nL 292.866064 35.331165 \nL 295.940444 34.809603 \nL 299.014824 34.809603 \nL 302.089205 39.50366 \nL 305.163585 36.374288 \nL 308.237965 38.460536 \nL 311.312345 37.938974 \nL 314.386725 35.852727 \nL 317.461105 36.89585 \nL 320.535486 34.809603 \nL 323.609866 37.417412 \nL 326.684246 35.852727 \nL 329.758626 32.201761 \nL 332.833006 34.288009 \nL 335.907386 32.723323 \nL 338.981767 34.809603 \nL 342.056147 35.331165 \nL 345.130527 33.766447 \nL 348.204907 33.766447 \nL 351.279287 32.723323 \nL 354.353667 37.417412 \nL 357.428048 32.201761 \nL 360.502428 33.766447 \nL 363.576808 34.288009 \nL 366.651188 35.331165 \nL 369.725568 37.938974 \n\" style=\"fill:none;stroke:#1f77b4;stroke-linecap:square;stroke-width:1.5;\"/>\n   </g>\n   <g id=\"line2d_16\">\n    <path clip-path=\"url(#p9236a2f912)\" d=\"M 65.361932 125.213985 \nL 68.436312 96.006423 \nL 71.510692 83.836581 \nL 74.585072 83.836581 \nL 77.659452 74.100727 \nL 80.733833 59.49693 \nL 83.808213 59.49693 \nL 86.882593 57.062974 \nL 89.956973 61.930917 \nL 93.031353 66.798829 \nL 96.105733 61.930917 \nL 99.180114 57.062974 \nL 102.254494 49.761076 \nL 105.328874 47.32712 \nL 108.403254 44.893165 \nL 111.477634 42.459177 \nL 114.552014 42.459177 \nL 117.626395 42.459177 \nL 120.700775 59.49693 \nL 123.775155 42.459177 \nL 126.849535 42.459177 \nL 129.923915 44.893165 \nL 132.998295 47.32712 \nL 136.072676 44.893165 \nL 139.147056 40.025222 \nL 142.221436 40.025222 \nL 145.295816 42.459177 \nL 148.370196 44.893165 \nL 151.444576 42.459177 \nL 154.518957 44.893165 \nL 157.593337 47.32712 \nL 160.667717 40.025222 \nL 163.742097 42.459177 \nL 166.816477 47.32712 \nL 169.890857 40.025222 \nL 172.965238 40.025222 \nL 176.039618 49.761076 \nL 179.113998 42.459177 \nL 182.188378 49.761076 \nL 185.262758 44.893165 \nL 188.337138 44.893165 \nL 191.411519 49.761076 \nL 194.485899 49.761076 \nL 197.560279 42.459177 \nL 200.634659 49.761076 \nL 203.709039 44.893165 \nL 206.783419 44.893165 \nL 209.8578 47.32712 \nL 212.93218 42.459177 \nL 216.00656 44.893165 \nL 219.08094 44.893165 \nL 222.15532 49.761076 \nL 225.2297 44.893165 \nL 228.304081 44.893165 \nL 231.378461 47.32712 \nL 234.452841 44.893165 \nL 237.527221 44.893165 \nL 240.601601 37.591266 \nL 243.675981 44.893165 \nL 246.750362 47.32712 \nL 249.824742 44.893165 \nL 252.899122 44.893165 \nL 255.973502 42.459177 \nL 259.047882 42.459177 \nL 262.122262 47.32712 \nL 265.196643 47.32712 \nL 268.271023 42.459177 \nL 271.345403 44.893165 \nL 274.419783 44.893165 \nL 277.494163 42.459177 \nL 280.568543 47.32712 \nL 283.642924 47.32712 \nL 286.717304 47.32712 \nL 289.791684 44.893165 \nL 292.866064 42.459177 \nL 295.940444 47.32712 \nL 299.014824 47.32712 \nL 302.089205 52.195063 \nL 305.163585 47.32712 \nL 308.237965 44.893165 \nL 311.312345 40.025222 \nL 314.386725 42.459177 \nL 317.461105 42.459177 \nL 320.535486 42.459177 \nL 323.609866 42.459177 \nL 326.684246 47.32712 \nL 329.758626 44.893165 \nL 332.833006 49.761076 \nL 335.907386 47.32712 \nL 338.981767 44.893165 \nL 342.056147 44.893165 \nL 345.130527 44.893165 \nL 348.204907 44.893165 \nL 351.279287 47.32712 \nL 354.353667 44.893165 \nL 357.428048 44.893165 \nL 360.502428 44.893165 \nL 363.576808 44.893165 \nL 366.651188 44.893165 \nL 369.725568 47.32712 \n\" style=\"fill:none;stroke:#ff7f0e;stroke-linecap:square;stroke-width:1.5;\"/>\n   </g>\n   <g id=\"patch_3\">\n    <path d=\"M 50.14375 239.758125 \nL 50.14375 22.318125 \n\" style=\"fill:none;stroke:#000000;stroke-linecap:square;stroke-linejoin:miter;stroke-width:0.8;\"/>\n   </g>\n   <g id=\"patch_4\">\n    <path d=\"M 384.94375 239.758125 \nL 384.94375 22.318125 \n\" style=\"fill:none;stroke:#000000;stroke-linecap:square;stroke-linejoin:miter;stroke-width:0.8;\"/>\n   </g>\n   <g id=\"patch_5\">\n    <path d=\"M 50.14375 239.758125 \nL 384.94375 239.758125 \n\" style=\"fill:none;stroke:#000000;stroke-linecap:square;stroke-linejoin:miter;stroke-width:0.8;\"/>\n   </g>\n   <g id=\"patch_6\">\n    <path d=\"M 50.14375 22.318125 \nL 384.94375 22.318125 \n\" style=\"fill:none;stroke:#000000;stroke-linecap:square;stroke-linejoin:miter;stroke-width:0.8;\"/>\n   </g>\n   <g id=\"text_17\">\n    <!-- Model accuracy -->\n    <g transform=\"translate(170.549688 16.318125)scale(0.12 -0.12)\">\n     <defs>\n      <path d=\"M 9.8125 72.90625 \nL 24.515625 72.90625 \nL 43.109375 23.296875 \nL 61.8125 72.90625 \nL 76.515625 72.90625 \nL 76.515625 0 \nL 66.890625 0 \nL 66.890625 64.015625 \nL 48.09375 14.015625 \nL 38.1875 14.015625 \nL 19.390625 64.015625 \nL 19.390625 0 \nL 9.8125 0 \nz\n\" id=\"DejaVuSans-77\"/>\n      <path d=\"M 45.40625 46.390625 \nL 45.40625 75.984375 \nL 54.390625 75.984375 \nL 54.390625 0 \nL 45.40625 0 \nL 45.40625 8.203125 \nQ 42.578125 3.328125 38.25 0.953125 \nQ 33.9375 -1.421875 27.875 -1.421875 \nQ 17.96875 -1.421875 11.734375 6.484375 \nQ 5.515625 14.40625 5.515625 27.296875 \nQ 5.515625 40.1875 11.734375 48.09375 \nQ 17.96875 56 27.875 56 \nQ 33.9375 56 38.25 53.625 \nQ 42.578125 51.265625 45.40625 46.390625 \nz\nM 14.796875 27.296875 \nQ 14.796875 17.390625 18.875 11.75 \nQ 22.953125 6.109375 30.078125 6.109375 \nQ 37.203125 6.109375 41.296875 11.75 \nQ 45.40625 17.390625 45.40625 27.296875 \nQ 45.40625 37.203125 41.296875 42.84375 \nQ 37.203125 48.484375 30.078125 48.484375 \nQ 22.953125 48.484375 18.875 42.84375 \nQ 14.796875 37.203125 14.796875 27.296875 \nz\n\" id=\"DejaVuSans-100\"/>\n      <path d=\"M 56.203125 29.59375 \nL 56.203125 25.203125 \nL 14.890625 25.203125 \nQ 15.484375 15.921875 20.484375 11.0625 \nQ 25.484375 6.203125 34.421875 6.203125 \nQ 39.59375 6.203125 44.453125 7.46875 \nQ 49.3125 8.734375 54.109375 11.28125 \nL 54.109375 2.78125 \nQ 49.265625 0.734375 44.1875 -0.34375 \nQ 39.109375 -1.421875 33.890625 -1.421875 \nQ 20.796875 -1.421875 13.15625 6.1875 \nQ 5.515625 13.8125 5.515625 26.8125 \nQ 5.515625 40.234375 12.765625 48.109375 \nQ 20.015625 56 32.328125 56 \nQ 43.359375 56 49.78125 48.890625 \nQ 56.203125 41.796875 56.203125 29.59375 \nz\nM 47.21875 32.234375 \nQ 47.125 39.59375 43.09375 43.984375 \nQ 39.0625 48.390625 32.421875 48.390625 \nQ 24.90625 48.390625 20.390625 44.140625 \nQ 15.875 39.890625 15.1875 32.171875 \nz\n\" id=\"DejaVuSans-101\"/>\n      <path d=\"M 9.421875 75.984375 \nL 18.40625 75.984375 \nL 18.40625 0 \nL 9.421875 0 \nz\n\" id=\"DejaVuSans-108\"/>\n      <path id=\"DejaVuSans-32\"/>\n     </defs>\n     <use xlink:href=\"#DejaVuSans-77\"/>\n     <use x=\"86.279297\" xlink:href=\"#DejaVuSans-111\"/>\n     <use x=\"147.460938\" xlink:href=\"#DejaVuSans-100\"/>\n     <use x=\"210.9375\" xlink:href=\"#DejaVuSans-101\"/>\n     <use x=\"272.460938\" xlink:href=\"#DejaVuSans-108\"/>\n     <use x=\"300.244141\" xlink:href=\"#DejaVuSans-32\"/>\n     <use x=\"332.03125\" xlink:href=\"#DejaVuSans-97\"/>\n     <use x=\"393.310547\" xlink:href=\"#DejaVuSans-99\"/>\n     <use x=\"448.291016\" xlink:href=\"#DejaVuSans-99\"/>\n     <use x=\"503.271484\" xlink:href=\"#DejaVuSans-117\"/>\n     <use x=\"566.650391\" xlink:href=\"#DejaVuSans-114\"/>\n     <use x=\"607.763672\" xlink:href=\"#DejaVuSans-97\"/>\n     <use x=\"669.042969\" xlink:href=\"#DejaVuSans-99\"/>\n     <use x=\"724.023438\" xlink:href=\"#DejaVuSans-121\"/>\n    </g>\n   </g>\n   <g id=\"legend_1\">\n    <g id=\"patch_7\">\n     <path d=\"M 321.95625 234.758125 \nL 377.94375 234.758125 \nQ 379.94375 234.758125 379.94375 232.758125 \nL 379.94375 204.401875 \nQ 379.94375 202.401875 377.94375 202.401875 \nL 321.95625 202.401875 \nQ 319.95625 202.401875 319.95625 204.401875 \nL 319.95625 232.758125 \nQ 319.95625 234.758125 321.95625 234.758125 \nz\n\" style=\"fill:#ffffff;opacity:0.8;stroke:#cccccc;stroke-linejoin:miter;\"/>\n    </g>\n    <g id=\"line2d_17\">\n     <path d=\"M 323.95625 210.500312 \nL 343.95625 210.500312 \n\" style=\"fill:none;stroke:#1f77b4;stroke-linecap:square;stroke-width:1.5;\"/>\n    </g>\n    <g id=\"line2d_18\"/>\n    <g id=\"text_18\">\n     <!-- Train -->\n     <g transform=\"translate(351.95625 214.000312)scale(0.1 -0.1)\">\n      <defs>\n       <path d=\"M -0.296875 72.90625 \nL 61.375 72.90625 \nL 61.375 64.59375 \nL 35.5 64.59375 \nL 35.5 0 \nL 25.59375 0 \nL 25.59375 64.59375 \nL -0.296875 64.59375 \nz\n\" id=\"DejaVuSans-84\"/>\n       <path d=\"M 9.421875 54.6875 \nL 18.40625 54.6875 \nL 18.40625 0 \nL 9.421875 0 \nz\nM 9.421875 75.984375 \nL 18.40625 75.984375 \nL 18.40625 64.59375 \nL 9.421875 64.59375 \nz\n\" id=\"DejaVuSans-105\"/>\n       <path d=\"M 54.890625 33.015625 \nL 54.890625 0 \nL 45.90625 0 \nL 45.90625 32.71875 \nQ 45.90625 40.484375 42.875 44.328125 \nQ 39.84375 48.1875 33.796875 48.1875 \nQ 26.515625 48.1875 22.3125 43.546875 \nQ 18.109375 38.921875 18.109375 30.90625 \nL 18.109375 0 \nL 9.078125 0 \nL 9.078125 54.6875 \nL 18.109375 54.6875 \nL 18.109375 46.1875 \nQ 21.34375 51.125 25.703125 53.5625 \nQ 30.078125 56 35.796875 56 \nQ 45.21875 56 50.046875 50.171875 \nQ 54.890625 44.34375 54.890625 33.015625 \nz\n\" id=\"DejaVuSans-110\"/>\n      </defs>\n      <use xlink:href=\"#DejaVuSans-84\"/>\n      <use x=\"46.333984\" xlink:href=\"#DejaVuSans-114\"/>\n      <use x=\"87.447266\" xlink:href=\"#DejaVuSans-97\"/>\n      <use x=\"148.726562\" xlink:href=\"#DejaVuSans-105\"/>\n      <use x=\"176.509766\" xlink:href=\"#DejaVuSans-110\"/>\n     </g>\n    </g>\n    <g id=\"line2d_19\">\n     <path d=\"M 323.95625 225.178437 \nL 343.95625 225.178437 \n\" style=\"fill:none;stroke:#ff7f0e;stroke-linecap:square;stroke-width:1.5;\"/>\n    </g>\n    <g id=\"line2d_20\"/>\n    <g id=\"text_19\">\n     <!-- Val -->\n     <g transform=\"translate(351.95625 228.678437)scale(0.1 -0.1)\">\n      <defs>\n       <path d=\"M 28.609375 0 \nL 0.78125 72.90625 \nL 11.078125 72.90625 \nL 34.1875 11.53125 \nL 57.328125 72.90625 \nL 67.578125 72.90625 \nL 39.796875 0 \nz\n\" id=\"DejaVuSans-86\"/>\n      </defs>\n      <use xlink:href=\"#DejaVuSans-86\"/>\n      <use x=\"60.658203\" xlink:href=\"#DejaVuSans-97\"/>\n      <use x=\"121.9375\" xlink:href=\"#DejaVuSans-108\"/>\n     </g>\n    </g>\n   </g>\n  </g>\n </g>\n <defs>\n  <clipPath id=\"p9236a2f912\">\n   <rect height=\"217.44\" width=\"334.8\" x=\"50.14375\" y=\"22.318125\"/>\n  </clipPath>\n </defs>\n</svg>\n",
      "image/png": "[encoded data removed]"
     },
     "metadata": {
      "needs_background": "light"
     }
    }
   ],
   "source": [
    "plt.plot(hist.history['accuracy'])\n",
    "plt.plot(hist.history['val_accuracy'])\n",
    "plt.title('Model accuracy')\n",
    "plt.ylabel('Accuracy')\n",
    "plt.xlabel('Epoch')\n",
    "plt.legend(['Train', 'Val'], loc='lower right')\n",
    "plt.show()"
   ]
  },
  {
   "cell_type": "code",
   "execution_count": 262,
   "metadata": {
    "tags": [
     "outputPrepend"
    ]
   },
   "outputs": [
    {
     "output_type": "stream",
     "name": "stdout",
     "text": [
      "-Result: 0.0 --- Exact-Prediction-Result: 0.011609822511672974\n",
      "Y-Result: 0 --- Rounded-Prediction-Result: 0.0 --- Exact-Prediction-Result: 0.3221231698989868\n",
      "Y-Result: 1 --- Rounded-Prediction-Result: 1.0 --- Exact-Prediction-Result: 0.9933460354804993\n",
      "Y-Result: 0 --- Rounded-Prediction-Result: 0.0 --- Exact-Prediction-Result: 0.35264575481414795\n",
      "Y-Result: 1 --- Rounded-Prediction-Result: 1.0 --- Exact-Prediction-Result: 0.9798722267150879\n",
      "Y-Result: 1 --- Rounded-Prediction-Result: 1.0 --- Exact-Prediction-Result: 0.974689245223999\n",
      "Y-Result: 0 --- Rounded-Prediction-Result: 0.0 --- Exact-Prediction-Result: 0.055429041385650635\n",
      "Y-Result: 0 --- Rounded-Prediction-Result: 1.0 --- Exact-Prediction-Result: 0.8644112348556519\n",
      "Y-Result: 1 --- Rounded-Prediction-Result: 1.0 --- Exact-Prediction-Result: 0.9820117950439453\n",
      "Y-Result: 0 --- Rounded-Prediction-Result: 0.0 --- Exact-Prediction-Result: 0.04897177219390869\n",
      "Y-Result: 0 --- Rounded-Prediction-Result: 0.0 --- Exact-Prediction-Result: 0.002743065357208252\n",
      "Y-Result: 0 --- Rounded-Prediction-Result: 0.0 --- Exact-Prediction-Result: 0.0012191236019134521\n",
      "Y-Result: 0 --- Rounded-Prediction-Result: 0.0 --- Exact-Prediction-Result: 0.006286442279815674\n",
      "Y-Result: 0 --- Rounded-Prediction-Result: 0.0 --- Exact-Prediction-Result: 0.0016855299472808838\n",
      "Y-Result: 0 --- Rounded-Prediction-Result: 0.0 --- Exact-Prediction-Result: 0.009460270404815674\n",
      "Y-Result: 0 --- Rounded-Prediction-Result: 0.0 --- Exact-Prediction-Result: 0.001291036605834961\n",
      "Y-Result: 0 --- Rounded-Prediction-Result: 0.0 --- Exact-Prediction-Result: 0.12810903787612915\n",
      "Y-Result: 1 --- Rounded-Prediction-Result: 1.0 --- Exact-Prediction-Result: 0.9852155447006226\n",
      "Y-Result: 0 --- Rounded-Prediction-Result: 0.0 --- Exact-Prediction-Result: 0.00010253810614813119\n",
      "Y-Result: 0 --- Rounded-Prediction-Result: 0.0 --- Exact-Prediction-Result: 0.4592253565788269\n",
      "Y-Result: 1 --- Rounded-Prediction-Result: 1.0 --- Exact-Prediction-Result: 0.9873019456863403\n",
      "Y-Result: 1 --- Rounded-Prediction-Result: 1.0 --- Exact-Prediction-Result: 0.9716809391975403\n",
      "Y-Result: 0 --- Rounded-Prediction-Result: 0.0 --- Exact-Prediction-Result: 0.03323066234588623\n",
      "Y-Result: 1 --- Rounded-Prediction-Result: 0.0 --- Exact-Prediction-Result: 0.33001428842544556\n",
      "Y-Result: 0 --- Rounded-Prediction-Result: 1.0 --- Exact-Prediction-Result: 0.6168656349182129\n",
      "Y-Result: 0 --- Rounded-Prediction-Result: 0.0 --- Exact-Prediction-Result: 0.20550569891929626\n",
      "Y-Result: 0 --- Rounded-Prediction-Result: 1.0 --- Exact-Prediction-Result: 0.7304395437240601\n",
      "Y-Result: 0 --- Rounded-Prediction-Result: 0.0 --- Exact-Prediction-Result: 0.0039809346199035645\n",
      "Y-Result: 0 --- Rounded-Prediction-Result: 0.0 --- Exact-Prediction-Result: 0.09124478697776794\n",
      "Y-Result: 0 --- Rounded-Prediction-Result: 1.0 --- Exact-Prediction-Result: 0.6794900894165039\n",
      "Y-Result: 0 --- Rounded-Prediction-Result: 0.0 --- Exact-Prediction-Result: 0.0242767333984375\n",
      "Y-Result: 0 --- Rounded-Prediction-Result: 0.0 --- Exact-Prediction-Result: 0.000534743070602417\n",
      "Y-Result: 0 --- Rounded-Prediction-Result: 0.0 --- Exact-Prediction-Result: 0.005719929933547974\n",
      "Y-Result: 1 --- Rounded-Prediction-Result: 1.0 --- Exact-Prediction-Result: 0.91761314868927\n",
      "Y-Result: 0 --- Rounded-Prediction-Result: 0.0 --- Exact-Prediction-Result: 0.004045248031616211\n",
      "Y-Result: 0 --- Rounded-Prediction-Result: 0.0 --- Exact-Prediction-Result: 0.30005961656570435\n",
      "Y-Result: 0 --- Rounded-Prediction-Result: 0.0 --- Exact-Prediction-Result: 0.0019005239009857178\n",
      "Y-Result: 0 --- Rounded-Prediction-Result: 0.0 --- Exact-Prediction-Result: 0.009213864803314209\n",
      "Y-Result: 1 --- Rounded-Prediction-Result: 1.0 --- Exact-Prediction-Result: 0.8619128465652466\n",
      "Y-Result: 0 --- Rounded-Prediction-Result: 1.0 --- Exact-Prediction-Result: 0.815921425819397\n",
      "Y-Result: 0 --- Rounded-Prediction-Result: 0.0 --- Exact-Prediction-Result: 0.22282660007476807\n",
      "Y-Result: 0 --- Rounded-Prediction-Result: 0.0 --- Exact-Prediction-Result: 0.00017565488815307617\n",
      "Y-Result: 0 --- Rounded-Prediction-Result: 0.0 --- Exact-Prediction-Result: 0.16866853833198547\n",
      "Y-Result: 0 --- Rounded-Prediction-Result: 0.0 --- Exact-Prediction-Result: 8.793605957180262e-05\n",
      "Y-Result: 1 --- Rounded-Prediction-Result: 1.0 --- Exact-Prediction-Result: 0.9566083550453186\n",
      "Y-Result: 1 --- Rounded-Prediction-Result: 1.0 --- Exact-Prediction-Result: 0.8473565578460693\n",
      "Y-Result: 1 --- Rounded-Prediction-Result: 1.0 --- Exact-Prediction-Result: 0.9610263109207153\n",
      "Y-Result: 1 --- Rounded-Prediction-Result: 1.0 --- Exact-Prediction-Result: 0.9420866966247559\n",
      "Y-Result: 1 --- Rounded-Prediction-Result: 1.0 --- Exact-Prediction-Result: 0.9423378705978394\n",
      "Y-Result: 1 --- Rounded-Prediction-Result: 1.0 --- Exact-Prediction-Result: 0.9948703646659851\n",
      "Y-Result: 0 --- Rounded-Prediction-Result: 0.0 --- Exact-Prediction-Result: 0.03545895218849182\n",
      "Y-Result: 0 --- Rounded-Prediction-Result: 0.0 --- Exact-Prediction-Result: 0.11620551347732544\n",
      "Y-Result: 0 --- Rounded-Prediction-Result: 0.0 --- Exact-Prediction-Result: 0.006635993719100952\n",
      "Y-Result: 1 --- Rounded-Prediction-Result: 1.0 --- Exact-Prediction-Result: 0.9909055233001709\n",
      "Y-Result: 0 --- Rounded-Prediction-Result: 0.0 --- Exact-Prediction-Result: 0.4439352750778198\n",
      "Y-Result: 1 --- Rounded-Prediction-Result: 1.0 --- Exact-Prediction-Result: 0.9810233116149902\n",
      "Y-Result: 1 --- Rounded-Prediction-Result: 1.0 --- Exact-Prediction-Result: 0.9771367311477661\n",
      "Y-Result: 1 --- Rounded-Prediction-Result: 1.0 --- Exact-Prediction-Result: 0.9300785064697266\n",
      "Y-Result: 1 --- Rounded-Prediction-Result: 1.0 --- Exact-Prediction-Result: 0.9078121185302734\n",
      "Y-Result: 0 --- Rounded-Prediction-Result: 0.0 --- Exact-Prediction-Result: 0.004496961832046509\n",
      "Y-Result: 0 --- Rounded-Prediction-Result: 0.0 --- Exact-Prediction-Result: 0.0002245008945465088\n",
      "Y-Result: 1 --- Rounded-Prediction-Result: 1.0 --- Exact-Prediction-Result: 0.9875091314315796\n",
      "Y-Result: 0 --- Rounded-Prediction-Result: 0.0 --- Exact-Prediction-Result: 0.011300325393676758\n",
      "Y-Result: 0 --- Rounded-Prediction-Result: 0.0 --- Exact-Prediction-Result: 0.3113335371017456\n",
      "Y-Result: 1 --- Rounded-Prediction-Result: 1.0 --- Exact-Prediction-Result: 0.9503993988037109\n",
      "Y-Result: 0 --- Rounded-Prediction-Result: 0.0 --- Exact-Prediction-Result: 0.001218557357788086\n",
      "Y-Result: 0 --- Rounded-Prediction-Result: 0.0 --- Exact-Prediction-Result: 0.14582663774490356\n",
      "Y-Result: 0 --- Rounded-Prediction-Result: 0.0 --- Exact-Prediction-Result: 0.004478573799133301\n",
      "Y-Result: 1 --- Rounded-Prediction-Result: 1.0 --- Exact-Prediction-Result: 0.9374034404754639\n",
      "Y-Result: 1 --- Rounded-Prediction-Result: 1.0 --- Exact-Prediction-Result: 0.9820024967193604\n",
      "Y-Result: 1 --- Rounded-Prediction-Result: 1.0 --- Exact-Prediction-Result: 0.9809881448745728\n",
      "Y-Result: 0 --- Rounded-Prediction-Result: 1.0 --- Exact-Prediction-Result: 0.8565565347671509\n",
      "Y-Result: 1 --- Rounded-Prediction-Result: 1.0 --- Exact-Prediction-Result: 0.6807080507278442\n",
      "Y-Result: 1 --- Rounded-Prediction-Result: 1.0 --- Exact-Prediction-Result: 0.9755353927612305\n",
      "Y-Result: 0 --- Rounded-Prediction-Result: 0.0 --- Exact-Prediction-Result: 0.061553359031677246\n",
      "Y-Result: 0 --- Rounded-Prediction-Result: 0.0 --- Exact-Prediction-Result: 0.04159519076347351\n",
      "Y-Result: 1 --- Rounded-Prediction-Result: 1.0 --- Exact-Prediction-Result: 0.9412198066711426\n",
      "Y-Result: 1 --- Rounded-Prediction-Result: 1.0 --- Exact-Prediction-Result: 0.8788381814956665\n",
      "Y-Result: 1 --- Rounded-Prediction-Result: 1.0 --- Exact-Prediction-Result: 0.9917119741439819\n",
      "Y-Result: 0 --- Rounded-Prediction-Result: 0.0 --- Exact-Prediction-Result: 0.018108606338500977\n",
      "Y-Result: 0 --- Rounded-Prediction-Result: 0.0 --- Exact-Prediction-Result: 0.0005928277969360352\n",
      "Y-Result: 0 --- Rounded-Prediction-Result: 0.0 --- Exact-Prediction-Result: 0.01552686095237732\n",
      "Y-Result: 0 --- Rounded-Prediction-Result: 0.0 --- Exact-Prediction-Result: 0.001732558012008667\n",
      "Y-Result: 1 --- Rounded-Prediction-Result: 1.0 --- Exact-Prediction-Result: 0.7553614377975464\n",
      "Y-Result: 1 --- Rounded-Prediction-Result: 1.0 --- Exact-Prediction-Result: 0.9920241236686707\n",
      "Y-Result: 1 --- Rounded-Prediction-Result: 1.0 --- Exact-Prediction-Result: 0.8753180503845215\n",
      "Y-Result: 0 --- Rounded-Prediction-Result: 1.0 --- Exact-Prediction-Result: 0.5233151316642761\n",
      "Y-Result: 0 --- Rounded-Prediction-Result: 1.0 --- Exact-Prediction-Result: 0.7379527688026428\n",
      "Y-Result: 1 --- Rounded-Prediction-Result: 1.0 --- Exact-Prediction-Result: 0.9850558042526245\n",
      "Y-Result: 1 --- Rounded-Prediction-Result: 1.0 --- Exact-Prediction-Result: 0.929856538772583\n",
      "Y-Result: 1 --- Rounded-Prediction-Result: 1.0 --- Exact-Prediction-Result: 0.988289475440979\n",
      "Y-Result: 0 --- Rounded-Prediction-Result: 0.0 --- Exact-Prediction-Result: 0.002045243978500366\n",
      "Y-Result: 0 --- Rounded-Prediction-Result: 0.0 --- Exact-Prediction-Result: 0.26110395789146423\n",
      "Y-Result: 1 --- Rounded-Prediction-Result: 1.0 --- Exact-Prediction-Result: 0.93437260389328\n",
      "Y-Result: 0 --- Rounded-Prediction-Result: 0.0 --- Exact-Prediction-Result: 0.003850609064102173\n",
      "Y-Result: 0 --- Rounded-Prediction-Result: 0.0 --- Exact-Prediction-Result: 0.0017731189727783203\n",
      "Y-Result: 1 --- Rounded-Prediction-Result: 1.0 --- Exact-Prediction-Result: 0.9636828899383545\n",
      "Y-Result: 1 --- Rounded-Prediction-Result: 1.0 --- Exact-Prediction-Result: 0.9865231513977051\n",
      "Y-Result: 0 --- Rounded-Prediction-Result: 0.0 --- Exact-Prediction-Result: 0.001302272081375122\n",
      "Y-Result: 0 --- Rounded-Prediction-Result: 0.0 --- Exact-Prediction-Result: 0.34640586376190186\n",
      "Y-Result: 1 --- Rounded-Prediction-Result: 1.0 --- Exact-Prediction-Result: 0.8783859014511108\n",
      "Y-Result: 0 --- Rounded-Prediction-Result: 0.0 --- Exact-Prediction-Result: 0.00012940168380737305\n",
      "Y-Result: 0 --- Rounded-Prediction-Result: 0.0 --- Exact-Prediction-Result: 0.0005283355712890625\n",
      "Y-Result: 1 --- Rounded-Prediction-Result: 1.0 --- Exact-Prediction-Result: 0.9248917102813721\n",
      "Y-Result: 0 --- Rounded-Prediction-Result: 0.0 --- Exact-Prediction-Result: 0.0013265907764434814\n",
      "Y-Result: 1 --- Rounded-Prediction-Result: 1.0 --- Exact-Prediction-Result: 0.9883036017417908\n",
      "Y-Result: 0 --- Rounded-Prediction-Result: 1.0 --- Exact-Prediction-Result: 0.639786958694458\n",
      "Y-Result: 1 --- Rounded-Prediction-Result: 1.0 --- Exact-Prediction-Result: 0.9866719245910645\n",
      "Y-Result: 0 --- Rounded-Prediction-Result: 0.0 --- Exact-Prediction-Result: 0.007988929748535156\n",
      "Y-Result: 1 --- Rounded-Prediction-Result: 1.0 --- Exact-Prediction-Result: 0.9619520902633667\n",
      "Y-Result: 0 --- Rounded-Prediction-Result: 0.0 --- Exact-Prediction-Result: 0.1920659840106964\n",
      "Y-Result: 0 --- Rounded-Prediction-Result: 0.0 --- Exact-Prediction-Result: 7.484533125534654e-05\n",
      "Y-Result: 0 --- Rounded-Prediction-Result: 0.0 --- Exact-Prediction-Result: 0.0642651915550232\n",
      "Y-Result: 0 --- Rounded-Prediction-Result: 1.0 --- Exact-Prediction-Result: 0.996074914932251\n",
      "Y-Result: 1 --- Rounded-Prediction-Result: 1.0 --- Exact-Prediction-Result: 0.8564118146896362\n",
      "Y-Result: 1 --- Rounded-Prediction-Result: 1.0 --- Exact-Prediction-Result: 0.7777470946311951\n",
      "Y-Result: 0 --- Rounded-Prediction-Result: 0.0 --- Exact-Prediction-Result: 0.23421570658683777\n",
      "Y-Result: 0 --- Rounded-Prediction-Result: 0.0 --- Exact-Prediction-Result: 0.00026673078536987305\n",
      "Y-Result: 0 --- Rounded-Prediction-Result: 0.0 --- Exact-Prediction-Result: 0.08143401145935059\n",
      "Y-Result: 1 --- Rounded-Prediction-Result: 1.0 --- Exact-Prediction-Result: 0.9725614786148071\n",
      "Y-Result: 0 --- Rounded-Prediction-Result: 1.0 --- Exact-Prediction-Result: 0.6024722456932068\n",
      "Y-Result: 1 --- Rounded-Prediction-Result: 1.0 --- Exact-Prediction-Result: 0.9969748258590698\n",
      "Y-Result: 0 --- Rounded-Prediction-Result: 0.0 --- Exact-Prediction-Result: 0.0005427300930023193\n",
      "Y-Result: 0 --- Rounded-Prediction-Result: 0.0 --- Exact-Prediction-Result: 0.41220536828041077\n",
      "Y-Result: 1 --- Rounded-Prediction-Result: 1.0 --- Exact-Prediction-Result: 0.9751993417739868\n",
      "Y-Result: 0 --- Rounded-Prediction-Result: 0.0 --- Exact-Prediction-Result: 0.004446923732757568\n",
      "Y-Result: 0 --- Rounded-Prediction-Result: 0.0 --- Exact-Prediction-Result: 0.0008913278579711914\n",
      "Y-Result: 1 --- Rounded-Prediction-Result: 1.0 --- Exact-Prediction-Result: 0.9526621699333191\n",
      "Y-Result: 1 --- Rounded-Prediction-Result: 1.0 --- Exact-Prediction-Result: 0.824400782585144\n",
      "Y-Result: 1 --- Rounded-Prediction-Result: 1.0 --- Exact-Prediction-Result: 0.896971583366394\n",
      "Y-Result: 1 --- Rounded-Prediction-Result: 1.0 --- Exact-Prediction-Result: 0.6535242795944214\n",
      "Y-Result: 0 --- Rounded-Prediction-Result: 0.0 --- Exact-Prediction-Result: 0.03745320439338684\n",
      "Y-Result: 0 --- Rounded-Prediction-Result: 0.0 --- Exact-Prediction-Result: 0.33325040340423584\n",
      "Y-Result: 1 --- Rounded-Prediction-Result: 1.0 --- Exact-Prediction-Result: 0.9610922336578369\n",
      "Y-Result: 0 --- Rounded-Prediction-Result: 0.0 --- Exact-Prediction-Result: 0.00010280551214236766\n",
      "Y-Result: 0 --- Rounded-Prediction-Result: 0.0 --- Exact-Prediction-Result: 0.10176867246627808\n",
      "Y-Result: 1 --- Rounded-Prediction-Result: 1.0 --- Exact-Prediction-Result: 0.9749201536178589\n",
      "Y-Result: 0 --- Rounded-Prediction-Result: 0.0 --- Exact-Prediction-Result: 0.1952335238456726\n",
      "Y-Result: 1 --- Rounded-Prediction-Result: 1.0 --- Exact-Prediction-Result: 0.981479823589325\n",
      "Y-Result: 1 --- Rounded-Prediction-Result: 1.0 --- Exact-Prediction-Result: 0.9657991528511047\n",
      "Y-Result: 0 --- Rounded-Prediction-Result: 1.0 --- Exact-Prediction-Result: 0.6599903106689453\n",
      "Y-Result: 0 --- Rounded-Prediction-Result: 0.0 --- Exact-Prediction-Result: 0.000988006591796875\n",
      "Y-Result: 1 --- Rounded-Prediction-Result: 1.0 --- Exact-Prediction-Result: 0.5163262486457825\n",
      "Y-Result: 1 --- Rounded-Prediction-Result: 0.0 --- Exact-Prediction-Result: 0.3511667251586914\n",
      "Y-Result: 0 --- Rounded-Prediction-Result: 0.0 --- Exact-Prediction-Result: 0.0049603283405303955\n",
      "Y-Result: 0 --- Rounded-Prediction-Result: 0.0 --- Exact-Prediction-Result: 0.004370003938674927\n",
      "Y-Result: 1 --- Rounded-Prediction-Result: 1.0 --- Exact-Prediction-Result: 0.9640733003616333\n",
      "Y-Result: 1 --- Rounded-Prediction-Result: 1.0 --- Exact-Prediction-Result: 0.9358521699905396\n",
      "Y-Result: 0 --- Rounded-Prediction-Result: 0.0 --- Exact-Prediction-Result: 0.00010697772086132318\n",
      "Y-Result: 0 --- Rounded-Prediction-Result: 0.0 --- Exact-Prediction-Result: 0.0015309154987335205\n",
      "Y-Result: 0 --- Rounded-Prediction-Result: 0.0 --- Exact-Prediction-Result: 0.022550135850906372\n",
      "Y-Result: 1 --- Rounded-Prediction-Result: 1.0 --- Exact-Prediction-Result: 0.9995608925819397\n",
      "Y-Result: 0 --- Rounded-Prediction-Result: 0.0 --- Exact-Prediction-Result: 0.03623667359352112\n",
      "Y-Result: 0 --- Rounded-Prediction-Result: 0.0 --- Exact-Prediction-Result: 0.0037414133548736572\n",
      "Y-Result: 0 --- Rounded-Prediction-Result: 0.0 --- Exact-Prediction-Result: 0.009723752737045288\n",
      "Y-Result: 0 --- Rounded-Prediction-Result: 0.0 --- Exact-Prediction-Result: 0.03264820575714111\n",
      "Y-Result: 1 --- Rounded-Prediction-Result: 1.0 --- Exact-Prediction-Result: 0.9886351823806763\n",
      "Y-Result: 1 --- Rounded-Prediction-Result: 1.0 --- Exact-Prediction-Result: 0.9912179112434387\n",
      "Y-Result: 0 --- Rounded-Prediction-Result: 0.0 --- Exact-Prediction-Result: 0.2695424556732178\n",
      "Y-Result: 1 --- Rounded-Prediction-Result: 1.0 --- Exact-Prediction-Result: 0.9790767431259155\n",
      "Y-Result: 1 --- Rounded-Prediction-Result: 1.0 --- Exact-Prediction-Result: 0.9251575469970703\n",
      "Y-Result: 1 --- Rounded-Prediction-Result: 0.0 --- Exact-Prediction-Result: 0.2658574879169464\n",
      "Y-Result: 1 --- Rounded-Prediction-Result: 1.0 --- Exact-Prediction-Result: 0.9643517732620239\n",
      "Y-Result: 1 --- Rounded-Prediction-Result: 1.0 --- Exact-Prediction-Result: 0.9826601147651672\n",
      "Y-Result: 0 --- Rounded-Prediction-Result: 0.0 --- Exact-Prediction-Result: 0.018384426832199097\n",
      "Y-Result: 0 --- Rounded-Prediction-Result: 0.0 --- Exact-Prediction-Result: 0.00017586350440979004\n",
      "Y-Result: 1 --- Rounded-Prediction-Result: 1.0 --- Exact-Prediction-Result: 0.9985146522521973\n",
      "Y-Result: 0 --- Rounded-Prediction-Result: 0.0 --- Exact-Prediction-Result: 2.7444611987448297e-05\n",
      "Y-Result: 0 --- Rounded-Prediction-Result: 0.0 --- Exact-Prediction-Result: 0.009086191654205322\n",
      "Y-Result: 0 --- Rounded-Prediction-Result: 0.0 --- Exact-Prediction-Result: 0.009747743606567383\n",
      "Y-Result: 0 --- Rounded-Prediction-Result: 0.0 --- Exact-Prediction-Result: 0.0038793087005615234\n",
      "Y-Result: 1 --- Rounded-Prediction-Result: 1.0 --- Exact-Prediction-Result: 0.9926774501800537\n",
      "Y-Result: 1 --- Rounded-Prediction-Result: 1.0 --- Exact-Prediction-Result: 0.9750037789344788\n",
      "Y-Result: 1 --- Rounded-Prediction-Result: 1.0 --- Exact-Prediction-Result: 0.8860400915145874\n",
      "Y-Result: 1 --- Rounded-Prediction-Result: 1.0 --- Exact-Prediction-Result: 0.9996259808540344\n",
      "Y-Result: 1 --- Rounded-Prediction-Result: 1.0 --- Exact-Prediction-Result: 0.9912339448928833\n",
      "Y-Result: 0 --- Rounded-Prediction-Result: 0.0 --- Exact-Prediction-Result: 0.0019921958446502686\n",
      "Y-Result: 0 --- Rounded-Prediction-Result: 0.0 --- Exact-Prediction-Result: 0.0005989968776702881\n",
      "Y-Result: 1 --- Rounded-Prediction-Result: 1.0 --- Exact-Prediction-Result: 0.888826847076416\n",
      "Y-Result: 0 --- Rounded-Prediction-Result: 1.0 --- Exact-Prediction-Result: 0.7403212785720825\n",
      "Y-Result: 1 --- Rounded-Prediction-Result: 1.0 --- Exact-Prediction-Result: 0.9821761250495911\n",
      "Y-Result: 0 --- Rounded-Prediction-Result: 0.0 --- Exact-Prediction-Result: 0.006016373634338379\n",
      "Y-Result: 1 --- Rounded-Prediction-Result: 1.0 --- Exact-Prediction-Result: 0.7026464939117432\n",
      "Y-Result: 1 --- Rounded-Prediction-Result: 1.0 --- Exact-Prediction-Result: 0.9102151393890381\n",
      "Y-Result: 0 --- Rounded-Prediction-Result: 0.0 --- Exact-Prediction-Result: 0.48686036467552185\n",
      "Y-Result: 1 --- Rounded-Prediction-Result: 1.0 --- Exact-Prediction-Result: 0.6677997708320618\n",
      "Y-Result: 1 --- Rounded-Prediction-Result: 1.0 --- Exact-Prediction-Result: 0.9842211008071899\n",
      "Y-Result: 1 --- Rounded-Prediction-Result: 1.0 --- Exact-Prediction-Result: 0.9445419907569885\n",
      "Y-Result: 0 --- Rounded-Prediction-Result: 0.0 --- Exact-Prediction-Result: 0.06048133969306946\n",
      "Y-Result: 1 --- Rounded-Prediction-Result: 1.0 --- Exact-Prediction-Result: 0.9833653569221497\n",
      "Y-Result: 1 --- Rounded-Prediction-Result: 1.0 --- Exact-Prediction-Result: 0.7027586698532104\n",
      "Y-Result: 1 --- Rounded-Prediction-Result: 1.0 --- Exact-Prediction-Result: 0.9803639650344849\n",
      "Y-Result: 0 --- Rounded-Prediction-Result: 0.0 --- Exact-Prediction-Result: 0.029434144496917725\n",
      "Y-Result: 1 --- Rounded-Prediction-Result: 1.0 --- Exact-Prediction-Result: 0.9759056568145752\n",
      "Y-Result: 1 --- Rounded-Prediction-Result: 1.0 --- Exact-Prediction-Result: 0.9861721396446228\n",
      "Y-Result: 1 --- Rounded-Prediction-Result: 1.0 --- Exact-Prediction-Result: 0.9811694025993347\n",
      "Y-Result: 0 --- Rounded-Prediction-Result: 0.0 --- Exact-Prediction-Result: 0.0016605854034423828\n",
      "Y-Result: 0 --- Rounded-Prediction-Result: 1.0 --- Exact-Prediction-Result: 0.9504367709159851\n",
      "Y-Result: 1 --- Rounded-Prediction-Result: 1.0 --- Exact-Prediction-Result: 0.9827035665512085\n",
      "Y-Result: 0 --- Rounded-Prediction-Result: 0.0 --- Exact-Prediction-Result: 0.003834843635559082\n",
      "Y-Result: 0 --- Rounded-Prediction-Result: 0.0 --- Exact-Prediction-Result: 0.0016781985759735107\n",
      "Y-Result: 1 --- Rounded-Prediction-Result: 1.0 --- Exact-Prediction-Result: 0.9865240454673767\n",
      "Y-Result: 1 --- Rounded-Prediction-Result: 1.0 --- Exact-Prediction-Result: 0.7921799421310425\n",
      "Y-Result: 0 --- Rounded-Prediction-Result: 0.0 --- Exact-Prediction-Result: 0.13996794819831848\n",
      "Y-Result: 0 --- Rounded-Prediction-Result: 0.0 --- Exact-Prediction-Result: 0.328477680683136\n",
      "Y-Result: 0 --- Rounded-Prediction-Result: 0.0 --- Exact-Prediction-Result: 0.013630419969558716\n",
      "Y-Result: 1 --- Rounded-Prediction-Result: 1.0 --- Exact-Prediction-Result: 0.8902603387832642\n",
      "Y-Result: 1 --- Rounded-Prediction-Result: 1.0 --- Exact-Prediction-Result: 0.9981769323348999\n",
      "Y-Result: 0 --- Rounded-Prediction-Result: 0.0 --- Exact-Prediction-Result: 0.0005151033401489258\n"
     ]
    }
   ],
   "source": [
    "result=model.predict(X_train)\n",
    "\n",
    "sumCorrect=0\n",
    "\n",
    "for i in range(0,len(result)):\n",
    "    yResult=Y_train[i]\n",
    "    yRounded=round(result[i][0])\n",
    "    yExact=result[i][0]\n",
    "    print(\"Y-Result: {} --- Rounded-Prediction-Result: {} --- Exact-Prediction-Result: {}\".format(yResult,yRounded,yExact))\n",
    "    if yResult==yRounded:\n",
    "        sumCorrect=sumCorrect+1\n",
    "\n"
   ]
  },
  {
   "cell_type": "code",
   "execution_count": 263,
   "metadata": {},
   "outputs": [
    {
     "output_type": "stream",
     "name": "stdout",
     "text": [
      "Prozentualer Anteil an korrekten Predictions:  91.1  %\n"
     ]
    }
   ],
   "source": [
    "calculatedAccuracy=100/len(result)*sumCorrect\n",
    "print(\"Prozentualer Anteil an korrekten Predictions: \",round(calculatedAccuracy,2), \" %\")"
   ]
  }
 ],
 "metadata": {
  "kernelspec": {
   "display_name": "Python 3",
   "language": "python",
   "name": "python3"
  },
  "language_info": {
   "codemirror_mode": {
    "name": "ipython",
    "version": 3
   },
   "file_extension": ".py",
   "mimetype": "text/x-python",
   "name": "python",
   "nbconvert_exporter": "python",
   "pygments_lexer": "ipython3",
   "version": "3.8.6-final"
  }
 },
 "nbformat": 4,
 "nbformat_minor": 4
}